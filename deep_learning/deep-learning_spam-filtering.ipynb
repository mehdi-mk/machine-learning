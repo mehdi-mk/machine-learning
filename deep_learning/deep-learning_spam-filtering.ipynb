{
 "cells": [
  {
   "cell_type": "code",
   "execution_count": 10,
   "id": "initial_id",
   "metadata": {
    "collapsed": true,
    "ExecuteTime": {
     "end_time": "2023-08-25T19:44:53.878791100Z",
     "start_time": "2023-08-25T19:44:52.677100500Z"
    }
   },
   "outputs": [
    {
     "name": "stderr",
     "output_type": "stream",
     "text": [
      "[nltk_data] Downloading package stopwords to\n",
      "[nltk_data]     C:\\Users\\mehdi.karamollahi\\AppData\\Roaming\\nltk_data..\n",
      "[nltk_data]     .\n",
      "[nltk_data]   Package stopwords is already up-to-date!\n",
      "[nltk_data] Downloading package punkt to\n",
      "[nltk_data]     C:\\Users\\mehdi.karamollahi\\AppData\\Roaming\\nltk_data..\n",
      "[nltk_data]     .\n",
      "[nltk_data]   Package punkt is already up-to-date!\n",
      "[nltk_data] Downloading package wordnet to\n",
      "[nltk_data]     C:\\Users\\mehdi.karamollahi\\AppData\\Roaming\\nltk_data..\n",
      "[nltk_data]     .\n",
      "[nltk_data]   Package wordnet is already up-to-date!\n",
      "[nltk_data] Downloading package omw-1.4 to\n",
      "[nltk_data]     C:\\Users\\mehdi.karamollahi\\AppData\\Roaming\\nltk_data..\n",
      "[nltk_data]     .\n",
      "[nltk_data]   Package omw-1.4 is already up-to-date!\n"
     ]
    },
    {
     "data": {
      "text/plain": "     CLASS                                                SMS\n0     pass   said kiss, kiss, i can't do the sound effects...\n1     pass      &lt;#&gt; ISH MINUTES WAS 5 MINUTES AGO. WTF.\n2     spam  (Bank of Granite issues Strong-Buy) EXPLOSIVE ...\n3     spam  * FREE* POLYPHONIC RINGTONE Text SUPER to 8713...\n4     spam  **FREE MESSAGE**Thanks for using the Auction S...\n...    ...                                                ...\n1495  pass       Yup, no need. I'll jus wait 4 e rain 2 stop.\n1496  pass  Yup... From what i remb... I think should be c...\n1497  pass                           Yup... How Ã¼ noe leh...\n1498  pass  Yup... Ok i go home look at the timings then i...\n1499  spam  <Forwarded from 21870000>Hi - this is your Mai...\n\n[1500 rows x 2 columns]",
      "text/html": "<div>\n<style scoped>\n    .dataframe tbody tr th:only-of-type {\n        vertical-align: middle;\n    }\n\n    .dataframe tbody tr th {\n        vertical-align: top;\n    }\n\n    .dataframe thead th {\n        text-align: right;\n    }\n</style>\n<table border=\"1\" class=\"dataframe\">\n  <thead>\n    <tr style=\"text-align: right;\">\n      <th></th>\n      <th>CLASS</th>\n      <th>SMS</th>\n    </tr>\n  </thead>\n  <tbody>\n    <tr>\n      <th>0</th>\n      <td>pass</td>\n      <td>said kiss, kiss, i can't do the sound effects...</td>\n    </tr>\n    <tr>\n      <th>1</th>\n      <td>pass</td>\n      <td>&amp;lt;#&amp;gt; ISH MINUTES WAS 5 MINUTES AGO. WTF.</td>\n    </tr>\n    <tr>\n      <th>2</th>\n      <td>spam</td>\n      <td>(Bank of Granite issues Strong-Buy) EXPLOSIVE ...</td>\n    </tr>\n    <tr>\n      <th>3</th>\n      <td>spam</td>\n      <td>* FREE* POLYPHONIC RINGTONE Text SUPER to 8713...</td>\n    </tr>\n    <tr>\n      <th>4</th>\n      <td>spam</td>\n      <td>**FREE MESSAGE**Thanks for using the Auction S...</td>\n    </tr>\n    <tr>\n      <th>...</th>\n      <td>...</td>\n      <td>...</td>\n    </tr>\n    <tr>\n      <th>1495</th>\n      <td>pass</td>\n      <td>Yup, no need. I'll jus wait 4 e rain 2 stop.</td>\n    </tr>\n    <tr>\n      <th>1496</th>\n      <td>pass</td>\n      <td>Yup... From what i remb... I think should be c...</td>\n    </tr>\n    <tr>\n      <th>1497</th>\n      <td>pass</td>\n      <td>Yup... How Ã¼ noe leh...</td>\n    </tr>\n    <tr>\n      <th>1498</th>\n      <td>pass</td>\n      <td>Yup... Ok i go home look at the timings then i...</td>\n    </tr>\n    <tr>\n      <th>1499</th>\n      <td>spam</td>\n      <td>&lt;Forwarded from 21870000&gt;Hi - this is your Mai...</td>\n    </tr>\n  </tbody>\n</table>\n<p>1500 rows × 2 columns</p>\n</div>"
     },
     "execution_count": 10,
     "metadata": {},
     "output_type": "execute_result"
    }
   ],
   "source": [
    "import pandas as pd\n",
    "import numpy as np\n",
    "import sklearn as sk\n",
    "import tensorflow as tf\n",
    "import nltk\n",
    "import matplotlib.pyplot as plt\n",
    "\n",
    "nltk.download('stopwords')\n",
    "nltk.download('punkt')\n",
    "nltk.download('wordnet')\n",
    "nltk.download('omw-1.4')\n",
    "lemmatizer = nltk.stem.WordNetLemmatizer()\n",
    "\n",
    "email_data = pd.read_csv(\"spam_filtering.csv\")\n",
    "email_data"
   ]
  },
  {
   "cell_type": "code",
   "execution_count": 6,
   "outputs": [
    {
     "data": {
      "text/plain": "0        said kiss, kiss, i can't do the sound effects...\n1           &lt;#&gt; ISH MINUTES WAS 5 MINUTES AGO. WTF.\n2       (Bank of Granite issues Strong-Buy) EXPLOSIVE ...\n3       * FREE* POLYPHONIC RINGTONE Text SUPER to 8713...\n4       **FREE MESSAGE**Thanks for using the Auction S...\n                              ...                        \n1495         Yup, no need. I'll jus wait 4 e rain 2 stop.\n1496    Yup... From what i remb... I think should be c...\n1497                             Yup... How Ã¼ noe leh...\n1498    Yup... Ok i go home look at the timings then i...\n1499    <Forwarded from 21870000>Hi - this is your Mai...\nName: SMS, Length: 1500, dtype: object"
     },
     "execution_count": 6,
     "metadata": {},
     "output_type": "execute_result"
    }
   ],
   "source": [
    "messages = email_data[\"SMS\"]\n",
    "messages"
   ],
   "metadata": {
    "collapsed": false,
    "ExecuteTime": {
     "end_time": "2023-08-25T19:40:16.961507100Z",
     "start_time": "2023-08-25T19:40:16.930279200Z"
    }
   },
   "id": "4458a650a1c330c8"
  },
  {
   "cell_type": "code",
   "execution_count": 7,
   "outputs": [
    {
     "data": {
      "text/plain": "0       pass\n1       pass\n2       spam\n3       spam\n4       spam\n        ... \n1495    pass\n1496    pass\n1497    pass\n1498    pass\n1499    spam\nName: CLASS, Length: 1500, dtype: object"
     },
     "execution_count": 7,
     "metadata": {},
     "output_type": "execute_result"
    }
   ],
   "source": [
    "classifications = email_data[\"CLASS\"]\n",
    "classifications"
   ],
   "metadata": {
    "collapsed": false,
    "ExecuteTime": {
     "end_time": "2023-08-25T19:40:17.913010200Z",
     "start_time": "2023-08-25T19:40:17.846613100Z"
    }
   },
   "id": "d8218dbaeb5473d8"
  },
  {
   "cell_type": "code",
   "execution_count": 8,
   "outputs": [
    {
     "name": "stderr",
     "output_type": "stream",
     "text": [
      "C:\\Users\\mehdi.karamollahi\\AppData\\Local\\anaconda3\\Lib\\site-packages\\sklearn\\feature_extraction\\text.py:528: UserWarning: The parameter 'token_pattern' will not be used since 'tokenizer' is not None'\n",
      "  warnings.warn(\n"
     ]
    },
    {
     "name": "stdout",
     "output_type": "stream",
     "text": [
      "TF-IDF Matrix Shape :  (1500, 4569)\n",
      "One-hot Encoding Shape :  (1500, 2)\n"
     ]
    }
   ],
   "source": [
    "# Custom tokenizer to remove stopwords and use lemmatization\n",
    "def custom_tokenize(str):\n",
    "    # Split string as tokens\n",
    "    tokens = nltk.word_tokenize(str)\n",
    "    \n",
    "    # Filter for stopwords\n",
    "    nostop = list(filter(lambda token: token not in nltk.corpus.stopwords.words('english'), tokens))\n",
    "    \n",
    "    # Perform lemmatization\n",
    "    lemmatized = [lemmatizer.lemmatize(word) for word in nostop ]\n",
    "    return lemmatized\n",
    "\n",
    "# Build a TF-IDF Vectorizer model\n",
    "vectorizer = sk.feature_extraction.text.TfidfVectorizer(tokenizer = custom_tokenize)\n",
    "\n",
    "# Transform feature input to TF-IDF\n",
    "tfidf = vectorizer.fit_transform(messages)\n",
    "\n",
    "# Convert TF-IDF to numpy array\n",
    "tfidf_array = tfidf.toarray()\n",
    "\n",
    "# Build a label encoder for target variable to convert strings to numeric values.\n",
    "label_encoder = sk.preprocessing.LabelEncoder()\n",
    "spam_classes = label_encoder.fit_transform(classifications)\n",
    "\n",
    "# Convert target to one-hot encoding vector\n",
    "spam_classes = tf.keras.utils.to_categorical(spam_classes, 2)\n",
    "\n",
    "print(\"TF-IDF Matrix Shape : \", tfidf.shape)\n",
    "print(\"One-hot Encoding Shape : \", spam_classes.shape)"
   ],
   "metadata": {
    "collapsed": false,
    "ExecuteTime": {
     "end_time": "2023-08-25T19:40:38.536689700Z",
     "start_time": "2023-08-25T19:40:18.869273800Z"
    }
   },
   "id": "5b65bf2c68a9e3c2"
  },
  {
   "cell_type": "code",
   "execution_count": 9,
   "outputs": [
    {
     "name": "stdout",
     "output_type": "stream",
     "text": [
      "Model: \"sequential\"\n",
      "_________________________________________________________________\n",
      " Layer (type)                Output Shape              Param #   \n",
      "=================================================================\n",
      " Hidden-Layer-1 (Dense)      (None, 32)                146240    \n",
      "                                                                 \n",
      " Hidden-Layer-2 (Dense)      (None, 32)                1056      \n",
      "                                                                 \n",
      " Output-Layer (Dense)        (None, 2)                 66        \n",
      "                                                                 \n",
      "=================================================================\n",
      "Total params: 147362 (575.63 KB)\n",
      "Trainable params: 147362 (575.63 KB)\n",
      "Non-trainable params: 0 (0.00 Byte)\n",
      "_________________________________________________________________\n"
     ]
    }
   ],
   "source": [
    "X_train,X_test,Y_train,Y_test = sk.model_selection.train_test_split(tfidf_array, spam_classes, test_size = 0.10)\n",
    "\n",
    "# Setup Hyper Parameters for building the model\n",
    "NB_CLASSES = 2\n",
    "N_HIDDEN = 32\n",
    "\n",
    "model = tf.keras.models.Sequential()\n",
    "\n",
    "model.add(tf.keras.layers.Dense(N_HIDDEN,\n",
    "                                input_shape = (X_train.shape[1], ),\n",
    "                                name = 'Hidden-Layer-1',\n",
    "                                activation = 'relu'))\n",
    "\n",
    "model.add(tf.keras.layers.Dense(N_HIDDEN,\n",
    "                                name = 'Hidden-Layer-2',\n",
    "                                activation = 'relu'))\n",
    "\n",
    "model.add(tf.keras.layers.Dense(NB_CLASSES,\n",
    "                                name = 'Output-Layer',\n",
    "                                activation = 'softmax'))\n",
    "\n",
    "model.compile(loss = 'categorical_crossentropy',\n",
    "              metrics = ['accuracy'])\n",
    "\n",
    "model.summary()"
   ],
   "metadata": {
    "collapsed": false,
    "ExecuteTime": {
     "end_time": "2023-08-25T19:43:39.828097100Z",
     "start_time": "2023-08-25T19:43:39.627583500Z"
    }
   },
   "id": "436a14534b8e8630"
  },
  {
   "cell_type": "code",
   "execution_count": 12,
   "outputs": [
    {
     "name": "stdout",
     "output_type": "stream",
     "text": [
      "Epoch 1/10\n",
      "5/5 [==============================] - 0s 21ms/step - loss: 0.2718 - accuracy: 0.9880 - val_loss: 0.3087 - val_accuracy: 0.9630\n",
      "Epoch 2/10\n",
      "5/5 [==============================] - 0s 17ms/step - loss: 0.2356 - accuracy: 0.9898 - val_loss: 0.2789 - val_accuracy: 0.9630\n",
      "Epoch 3/10\n",
      "5/5 [==============================] - 0s 16ms/step - loss: 0.2032 - accuracy: 0.9917 - val_loss: 0.2528 - val_accuracy: 0.9630\n",
      "Epoch 4/10\n",
      "5/5 [==============================] - 0s 12ms/step - loss: 0.1746 - accuracy: 0.9917 - val_loss: 0.2292 - val_accuracy: 0.9630\n",
      "Epoch 5/10\n",
      "5/5 [==============================] - 0s 12ms/step - loss: 0.1495 - accuracy: 0.9926 - val_loss: 0.2083 - val_accuracy: 0.9630\n",
      "Epoch 6/10\n",
      "5/5 [==============================] - 0s 16ms/step - loss: 0.1281 - accuracy: 0.9926 - val_loss: 0.1903 - val_accuracy: 0.9704\n",
      "Epoch 7/10\n",
      "5/5 [==============================] - 0s 14ms/step - loss: 0.1092 - accuracy: 0.9926 - val_loss: 0.1748 - val_accuracy: 0.9704\n",
      "Epoch 8/10\n",
      "5/5 [==============================] - 0s 12ms/step - loss: 0.0934 - accuracy: 0.9944 - val_loss: 0.1640 - val_accuracy: 0.9704\n",
      "Epoch 9/10\n",
      "5/5 [==============================] - 0s 13ms/step - loss: 0.0796 - accuracy: 0.9954 - val_loss: 0.1486 - val_accuracy: 0.9704\n",
      "Epoch 10/10\n",
      "5/5 [==============================] - 0s 16ms/step - loss: 0.0680 - accuracy: 0.9972 - val_loss: 0.1403 - val_accuracy: 0.9741\n"
     ]
    }
   ],
   "source": [
    "# Make it verbose so we can see the progress\n",
    "VERBOSE = 1\n",
    "\n",
    "# Setup Hyper Parameters for training\n",
    "BATCH_SIZE = 256\n",
    "EPOCHS = 10\n",
    "VALIDATION_SPLIT = 0.2\n",
    "\n",
    "history = model.fit(X_train,\n",
    "                    Y_train,\n",
    "                    batch_size = BATCH_SIZE,\n",
    "                    epochs = EPOCHS,\n",
    "                    verbose = VERBOSE,\n",
    "                    validation_split = VALIDATION_SPLIT)"
   ],
   "metadata": {
    "collapsed": false,
    "ExecuteTime": {
     "end_time": "2023-08-25T19:45:43.277409400Z",
     "start_time": "2023-08-25T19:45:42.475761700Z"
    }
   },
   "id": "9a566513c28acefc"
  },
  {
   "cell_type": "code",
   "execution_count": 13,
   "outputs": [
    {
     "data": {
      "text/plain": "<Figure size 800x500 with 1 Axes>",
      "image/png": "[encoded data removed]"
     },
     "metadata": {},
     "output_type": "display_data"
    }
   ],
   "source": [
    "pd.DataFrame(history.history)[\"accuracy\"].plot(figsize = (8, 5))\n",
    "plt.title(\"Accuracy Improvements with Each Epoch\")\n",
    "plt.show()"
   ],
   "metadata": {
    "collapsed": false,
    "ExecuteTime": {
     "end_time": "2023-08-25T19:45:52.088546400Z",
     "start_time": "2023-08-25T19:45:51.916512600Z"
    }
   },
   "id": "d8caa5a1e7592c74"
  },
  {
   "cell_type": "code",
   "execution_count": 14,
   "outputs": [
    {
     "name": "stdout",
     "output_type": "stream",
     "text": [
      "5/5 [==============================] - 0s 4ms/step - loss: 0.1330 - accuracy: 0.9667\n"
     ]
    },
    {
     "data": {
      "text/plain": "[0.1330028772354126, 0.9666666388511658]"
     },
     "execution_count": 14,
     "metadata": {},
     "output_type": "execute_result"
    }
   ],
   "source": [
    "model.evaluate(X_test, Y_test)"
   ],
   "metadata": {
    "collapsed": false,
    "ExecuteTime": {
     "end_time": "2023-08-25T19:45:56.890863900Z",
     "start_time": "2023-08-25T19:45:56.751832700Z"
    }
   },
   "id": "a63f5271b846468d"
  },
  {
   "cell_type": "code",
   "execution_count": 15,
   "outputs": [
    {
     "data": {
      "text/plain": "(2, 4569)"
     },
     "execution_count": 15,
     "metadata": {},
     "output_type": "execute_result"
    }
   ],
   "source": [
    "# Predict for multiple samples using batch processing\n",
    "\n",
    "# Convert input into IF-IDF vector using the same vectorizer model\n",
    "predict_tfidf = vectorizer.transform([\"FREE entry to a fun contest\", \"Yup I will come over\"]).toarray()\n",
    "\n",
    "predict_tfidf.shape"
   ],
   "metadata": {
    "collapsed": false,
    "ExecuteTime": {
     "end_time": "2023-08-25T19:46:39.510767500Z",
     "start_time": "2023-08-25T19:46:39.441684700Z"
    }
   },
   "id": "f0184e4ee0eafecb"
  },
  {
   "cell_type": "code",
   "execution_count": 16,
   "outputs": [
    {
     "name": "stdout",
     "output_type": "stream",
     "text": [
      "1/1 [==============================] - 0s 95ms/step\n"
     ]
    },
    {
     "data": {
      "text/plain": "array([1, 0], dtype=int64)"
     },
     "execution_count": 16,
     "metadata": {},
     "output_type": "execute_result"
    }
   ],
   "source": [
    "# Predict using model\n",
    "prediction = np.argmax( model.predict(predict_tfidf), axis = 1 )\n",
    "prediction"
   ],
   "metadata": {
    "collapsed": false,
    "ExecuteTime": {
     "end_time": "2023-08-25T19:47:05.920785500Z",
     "start_time": "2023-08-25T19:47:05.765881400Z"
    }
   },
   "id": "8dc8f948360237c8"
  },
  {
   "cell_type": "code",
   "execution_count": 17,
   "outputs": [
    {
     "data": {
      "text/plain": "array(['spam', 'pass'], dtype=object)"
     },
     "execution_count": 17,
     "metadata": {},
     "output_type": "execute_result"
    }
   ],
   "source": [
    "# Print prediction classes\n",
    "label_encoder.inverse_transform(prediction)"
   ],
   "metadata": {
    "collapsed": false,
    "ExecuteTime": {
     "end_time": "2023-08-25T19:47:21.561627700Z",
     "start_time": "2023-08-25T19:47:21.512366300Z"
    }
   },
   "id": "dc541c556b738c25"
  },
  {
   "cell_type": "code",
   "execution_count": null,
   "outputs": [],
   "source": [],
   "metadata": {
    "collapsed": false
   },
   "id": "1e46c155e54f6fbd"
  }
 ],
 "metadata": {
  "kernelspec": {
   "display_name": "Python 3",
   "language": "python",
   "name": "python3"
  },
  "language_info": {
   "codemirror_mode": {
    "name": "ipython",
    "version": 2
   },
   "file_extension": ".py",
   "mimetype": "text/x-python",
   "name": "python",
   "nbconvert_exporter": "python",
   "pygments_lexer": "ipython2",
   "version": "2.7.6"
  }
 },
 "nbformat": 4,
 "nbformat_minor": 5
}
