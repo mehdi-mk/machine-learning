{
 "cells": [
  {
   "cell_type": "code",
   "execution_count": 53,
   "id": "initial_id",
   "metadata": {
    "collapsed": true,
    "ExecuteTime": {
     "end_time": "2023-08-25T16:52:32.541661600Z",
     "start_time": "2023-08-25T16:52:32.526038600Z"
    }
   },
   "outputs": [],
   "source": [
    "import pandas as pd\n",
    "import os\n",
    "import tensorflow as tf\n",
    "import numpy as np\n",
    "import sklearn as sk"
   ]
  },
  {
   "cell_type": "code",
   "execution_count": 54,
   "outputs": [
    {
     "data": {
      "text/plain": "       ID  CPU_LOAD  MEMORY_LEAK_LOAD  DELAY  ERROR_1000  ERROR_1001  \\\n0       1         0                 0      0           0           1   \n1       2         0                 0      0           0           0   \n2       3         0                 1      1           0           0   \n3       4         0                 1      0           1           1   \n4       5         1                 1      0           1           0   \n..    ...       ...               ...    ...         ...         ...   \n995   996         0                 0      0           0           0   \n996   997         0                 0      0           1           0   \n997   998         1                 1      1           0           0   \n998   999         0                 1      1           1           1   \n999  1000         1                 0      0           0           1   \n\n     ERROR_1002  ERROR_1003      ROOT_CAUSE  \n0             0           1     MEMORY_LEAK  \n1             0           1     MEMORY_LEAK  \n2             1           1     MEMORY_LEAK  \n3             0           1     MEMORY_LEAK  \n4             1           0   NETWORK_DELAY  \n..          ...         ...             ...  \n995           0           1  DATABASE_ISSUE  \n996           0           0   NETWORK_DELAY  \n997           0           0     MEMORY_LEAK  \n998           0           0   NETWORK_DELAY  \n999           1           0  DATABASE_ISSUE  \n\n[1000 rows x 9 columns]",
      "text/html": "<div>\n<style scoped>\n    .dataframe tbody tr th:only-of-type {\n        vertical-align: middle;\n    }\n\n    .dataframe tbody tr th {\n        vertical-align: top;\n    }\n\n    .dataframe thead th {\n        text-align: right;\n    }\n</style>\n<table border=\"1\" class=\"dataframe\">\n  <thead>\n    <tr style=\"text-align: right;\">\n      <th></th>\n      <th>ID</th>\n      <th>CPU_LOAD</th>\n      <th>MEMORY_LEAK_LOAD</th>\n      <th>DELAY</th>\n      <th>ERROR_1000</th>\n      <th>ERROR_1001</th>\n      <th>ERROR_1002</th>\n      <th>ERROR_1003</th>\n      <th>ROOT_CAUSE</th>\n    </tr>\n  </thead>\n  <tbody>\n    <tr>\n      <th>0</th>\n      <td>1</td>\n      <td>0</td>\n      <td>0</td>\n      <td>0</td>\n      <td>0</td>\n      <td>1</td>\n      <td>0</td>\n      <td>1</td>\n      <td>MEMORY_LEAK</td>\n    </tr>\n    <tr>\n      <th>1</th>\n      <td>2</td>\n      <td>0</td>\n      <td>0</td>\n      <td>0</td>\n      <td>0</td>\n      <td>0</td>\n      <td>0</td>\n      <td>1</td>\n      <td>MEMORY_LEAK</td>\n    </tr>\n    <tr>\n      <th>2</th>\n      <td>3</td>\n      <td>0</td>\n      <td>1</td>\n      <td>1</td>\n      <td>0</td>\n      <td>0</td>\n      <td>1</td>\n      <td>1</td>\n      <td>MEMORY_LEAK</td>\n    </tr>\n    <tr>\n      <th>3</th>\n      <td>4</td>\n      <td>0</td>\n      <td>1</td>\n      <td>0</td>\n      <td>1</td>\n      <td>1</td>\n      <td>0</td>\n      <td>1</td>\n      <td>MEMORY_LEAK</td>\n    </tr>\n    <tr>\n      <th>4</th>\n      <td>5</td>\n      <td>1</td>\n      <td>1</td>\n      <td>0</td>\n      <td>1</td>\n      <td>0</td>\n      <td>1</td>\n      <td>0</td>\n      <td>NETWORK_DELAY</td>\n    </tr>\n    <tr>\n      <th>...</th>\n      <td>...</td>\n      <td>...</td>\n      <td>...</td>\n      <td>...</td>\n      <td>...</td>\n      <td>...</td>\n      <td>...</td>\n      <td>...</td>\n      <td>...</td>\n    </tr>\n    <tr>\n      <th>995</th>\n      <td>996</td>\n      <td>0</td>\n      <td>0</td>\n      <td>0</td>\n      <td>0</td>\n      <td>0</td>\n      <td>0</td>\n      <td>1</td>\n      <td>DATABASE_ISSUE</td>\n    </tr>\n    <tr>\n      <th>996</th>\n      <td>997</td>\n      <td>0</td>\n      <td>0</td>\n      <td>0</td>\n      <td>1</td>\n      <td>0</td>\n      <td>0</td>\n      <td>0</td>\n      <td>NETWORK_DELAY</td>\n    </tr>\n    <tr>\n      <th>997</th>\n      <td>998</td>\n      <td>1</td>\n      <td>1</td>\n      <td>1</td>\n      <td>0</td>\n      <td>0</td>\n      <td>0</td>\n      <td>0</td>\n      <td>MEMORY_LEAK</td>\n    </tr>\n    <tr>\n      <th>998</th>\n      <td>999</td>\n      <td>0</td>\n      <td>1</td>\n      <td>1</td>\n      <td>1</td>\n      <td>1</td>\n      <td>0</td>\n      <td>0</td>\n      <td>NETWORK_DELAY</td>\n    </tr>\n    <tr>\n      <th>999</th>\n      <td>1000</td>\n      <td>1</td>\n      <td>0</td>\n      <td>0</td>\n      <td>0</td>\n      <td>1</td>\n      <td>1</td>\n      <td>0</td>\n      <td>DATABASE_ISSUE</td>\n    </tr>\n  </tbody>\n</table>\n<p>1000 rows × 9 columns</p>\n</div>"
     },
     "execution_count": 54,
     "metadata": {},
     "output_type": "execute_result"
    }
   ],
   "source": [
    "# Loading data and previewing the content\n",
    "errors_data = pd.read_csv(\"root_cause_analysis.csv\")\n",
    "errors_data"
   ],
   "metadata": {
    "collapsed": false,
    "ExecuteTime": {
     "end_time": "2023-08-25T16:52:33.045706600Z",
     "start_time": "2023-08-25T16:52:33.012083300Z"
    }
   },
   "id": "41f2ac71323af06"
  },
  {
   "cell_type": "code",
   "execution_count": 55,
   "outputs": [
    {
     "data": {
      "text/plain": "array([1, 2, 0])"
     },
     "execution_count": 55,
     "metadata": {},
     "output_type": "execute_result"
    }
   ],
   "source": [
    "# Using a label encoder to convert String to numeric values for the target variable\n",
    "label_encoder = sk.preprocessing.LabelEncoder()\n",
    "errors_data['ROOT_CAUSE'] = label_encoder.fit_transform(errors_data['ROOT_CAUSE'])\n",
    "errors_data['ROOT_CAUSE'].unique()"
   ],
   "metadata": {
    "collapsed": false,
    "ExecuteTime": {
     "end_time": "2023-08-25T16:52:33.543514Z",
     "start_time": "2023-08-25T16:52:33.527896700Z"
    }
   },
   "id": "e5daca94cdd98178"
  },
  {
   "cell_type": "code",
   "execution_count": 56,
   "outputs": [
    {
     "data": {
      "text/plain": "array([[   1,    0,    0, ...,    0,    1,    1],\n       [   2,    0,    0, ...,    0,    1,    1],\n       [   3,    0,    1, ...,    1,    1,    1],\n       ...,\n       [ 998,    1,    1, ...,    0,    0,    1],\n       [ 999,    0,    1, ...,    0,    0,    2],\n       [1000,    1,    0, ...,    1,    0,    0]], dtype=int64)"
     },
     "execution_count": 56,
     "metadata": {},
     "output_type": "execute_result"
    }
   ],
   "source": [
    "# Converting the input to a numpy array\n",
    "np_errors = errors_data.to_numpy()\n",
    "np_errors"
   ],
   "metadata": {
    "collapsed": false,
    "ExecuteTime": {
     "end_time": "2023-08-25T16:52:34.165491200Z",
     "start_time": "2023-08-25T16:52:34.134246100Z"
    }
   },
   "id": "88e32ed4df7b39c4"
  },
  {
   "cell_type": "code",
   "execution_count": 57,
   "outputs": [
    {
     "data": {
      "text/plain": "array([[0, 0, 0, ..., 1, 0, 1],\n       [0, 0, 0, ..., 0, 0, 1],\n       [0, 1, 1, ..., 0, 1, 1],\n       ...,\n       [1, 1, 1, ..., 0, 0, 0],\n       [0, 1, 1, ..., 1, 0, 0],\n       [1, 0, 0, ..., 1, 1, 0]], dtype=int64)"
     },
     "execution_count": 57,
     "metadata": {},
     "output_type": "execute_result"
    }
   ],
   "source": [
    "# Separating feature and target variables\n",
    "X_data = np_errors[:,1:8]\n",
    "X_data"
   ],
   "metadata": {
    "collapsed": false,
    "ExecuteTime": {
     "end_time": "2023-08-25T16:52:34.772652400Z",
     "start_time": "2023-08-25T16:52:34.741406500Z"
    }
   },
   "id": "b0a49c8bb64f998c"
  },
  {
   "cell_type": "code",
   "execution_count": 58,
   "outputs": [
    {
     "data": {
      "text/plain": "array([1, 1, 1, 1, 2, 2, 2, 0, 1, 2, 1, 0, 1, 0, 2, 1, 1, 1, 2, 1, 2, 1,\n       1, 1, 2, 1, 1, 2, 2, 1, 0, 1, 1, 2, 1, 0, 1, 0, 0, 2, 2, 0, 1, 0,\n       2, 2, 2, 0, 2, 0, 1, 0, 0, 0, 2, 1, 2, 1, 0, 0, 2, 1, 0, 1, 2, 1,\n       0, 0, 1, 2, 1, 0, 1, 0, 2, 1, 2, 2, 2, 2, 2, 1, 2, 1, 2, 2, 0, 1,\n       1, 0, 1, 1, 1, 1, 1, 2, 0, 1, 1, 1, 1, 1, 2, 0, 1, 2, 2, 0, 0, 1,\n       2, 2, 2, 0, 0, 0, 1, 1, 1, 2, 1, 0, 2, 0, 0, 2, 2, 2, 1, 0, 2, 1,\n       0, 0, 0, 0, 0, 2, 1, 1, 2, 0, 0, 1, 0, 2, 1, 2, 0, 2, 2, 1, 0, 2,\n       0, 0, 0, 2, 2, 1, 2, 2, 2, 0, 2, 2, 1, 0, 1, 1, 0, 1, 2, 1, 1, 0,\n       1, 1, 1, 0, 2, 1, 0, 0, 1, 0, 1, 2, 0, 1, 1, 1, 2, 1, 2, 0, 0, 0,\n       0, 1, 0, 2, 1, 1, 0, 2, 0, 1, 1, 0, 0, 0, 2, 0, 0, 0, 1, 2, 0, 1,\n       0, 0, 2, 1, 2, 2, 0, 1, 0, 2, 2, 2, 0, 0, 2, 2, 2, 1, 1, 1, 2, 0,\n       2, 0, 2, 0, 2, 1, 0, 1, 2, 1, 2, 2, 1, 2, 0, 0, 2, 2, 1, 1, 0, 0,\n       0, 1, 0, 2, 2, 1, 0, 2, 2, 0, 0, 0, 2, 2, 0, 2, 1, 2, 0, 0, 2, 0,\n       2, 2, 2, 0, 0, 0, 0, 1, 1, 0, 2, 1, 2, 0, 1, 1, 1, 1, 2, 2, 2, 0,\n       1, 2, 1, 0, 1, 0, 2, 1, 1, 1, 2, 1, 2, 1, 1, 1, 2, 1, 1, 2, 2, 1,\n       0, 1, 1, 2, 1, 0, 1, 0, 0, 2, 2, 0, 1, 0, 2, 2, 2, 0, 2, 0, 1, 0,\n       0, 0, 2, 1, 2, 1, 0, 0, 2, 1, 0, 1, 2, 1, 0, 0, 1, 2, 1, 0, 1, 0,\n       2, 1, 2, 2, 2, 2, 2, 1, 2, 1, 2, 2, 0, 1, 1, 0, 1, 1, 1, 1, 1, 2,\n       0, 1, 1, 1, 1, 1, 2, 0, 1, 2, 2, 0, 0, 1, 2, 2, 2, 0, 0, 0, 1, 1,\n       1, 2, 1, 0, 2, 0, 0, 2, 2, 2, 1, 0, 2, 1, 0, 0, 0, 0, 0, 2, 1, 1,\n       2, 0, 0, 1, 0, 2, 1, 2, 0, 2, 2, 1, 0, 2, 0, 0, 0, 2, 2, 1, 2, 2,\n       2, 0, 2, 2, 1, 0, 1, 1, 0, 1, 2, 1, 1, 0, 1, 1, 1, 0, 2, 1, 0, 0,\n       1, 0, 1, 2, 0, 1, 1, 1, 2, 1, 2, 0, 0, 0, 0, 1, 0, 2, 1, 1, 0, 2,\n       0, 1, 1, 0, 0, 0, 2, 0, 0, 0, 1, 2, 0, 1, 0, 0, 2, 1, 2, 2, 0, 1,\n       0, 2, 2, 2, 0, 0, 2, 2, 2, 1, 1, 1, 2, 0, 2, 0, 2, 0, 2, 1, 0, 1,\n       2, 1, 2, 2, 1, 2, 0, 0, 2, 2, 1, 1, 0, 0, 0, 1, 0, 2, 2, 1, 0, 2,\n       2, 0, 0, 0, 2, 2, 0, 2, 1, 2, 0, 0, 2, 0, 2, 2, 2, 0, 0, 0, 0, 1,\n       1, 0, 2, 1, 2, 0, 1, 1, 1, 1, 2, 2, 2, 0, 1, 2, 1, 0, 1, 0, 2, 1,\n       1, 1, 2, 1, 2, 1, 1, 1, 2, 1, 1, 2, 2, 1, 0, 1, 1, 2, 1, 0, 1, 0,\n       0, 2, 2, 0, 1, 0, 2, 2, 2, 0, 2, 0, 1, 0, 0, 0, 2, 1, 2, 1, 0, 0,\n       2, 1, 0, 1, 2, 1, 0, 0, 1, 2, 1, 0, 1, 0, 2, 1, 2, 2, 2, 2, 2, 1,\n       2, 1, 2, 2, 0, 1, 1, 0, 1, 1, 1, 1, 1, 2, 0, 1, 1, 1, 1, 1, 2, 0,\n       1, 2, 2, 0, 0, 1, 2, 2, 2, 0, 0, 0, 1, 1, 1, 2, 1, 0, 2, 0, 0, 2,\n       2, 2, 1, 0, 2, 1, 0, 0, 0, 0, 0, 2, 1, 1, 2, 0, 0, 1, 0, 2, 1, 2,\n       0, 2, 2, 1, 0, 2, 0, 0, 0, 2, 2, 1, 2, 2, 2, 0, 2, 2, 1, 0, 1, 1,\n       0, 1, 2, 1, 1, 0, 1, 1, 1, 0, 2, 1, 0, 0, 1, 0, 1, 2, 0, 1, 1, 1,\n       2, 1, 2, 0, 0, 0, 0, 1, 0, 2, 1, 1, 0, 2, 0, 1, 1, 0, 0, 0, 2, 0,\n       0, 0, 1, 2, 0, 1, 0, 0, 2, 1, 2, 2, 0, 1, 0, 2, 2, 2, 0, 0, 2, 2,\n       2, 1, 1, 1, 2, 0, 2, 0, 2, 0, 2, 1, 0, 1, 2, 1, 2, 2, 1, 2, 0, 0,\n       2, 2, 1, 1, 0, 0, 0, 1, 0, 2, 2, 1, 0, 2, 2, 0, 0, 0, 2, 2, 0, 2,\n       1, 2, 0, 0, 2, 0, 2, 2, 2, 0, 0, 0, 0, 1, 1, 0, 2, 1, 2, 0, 0, 2,\n       1, 1, 0, 2, 0, 1, 1, 0, 0, 0, 2, 0, 0, 0, 1, 2, 0, 1, 0, 0, 2, 1,\n       2, 2, 0, 1, 0, 2, 2, 2, 0, 0, 2, 2, 2, 1, 1, 1, 2, 0, 2, 0, 2, 0,\n       2, 1, 0, 1, 2, 1, 2, 2, 1, 2, 0, 0, 2, 2, 1, 1, 0, 0, 0, 1, 0, 2,\n       2, 1, 0, 2, 2, 0, 0, 0, 2, 2, 0, 2, 1, 2, 0, 0, 2, 0, 2, 2, 2, 0,\n       0, 0, 0, 1, 1, 0, 2, 1, 2, 0], dtype=int64)"
     },
     "execution_count": 58,
     "metadata": {},
     "output_type": "execute_result"
    }
   ],
   "source": [
    "Y_data = np_errors[:,8]\n",
    "Y_data"
   ],
   "metadata": {
    "collapsed": false,
    "ExecuteTime": {
     "end_time": "2023-08-25T16:52:35.597395500Z",
     "start_time": "2023-08-25T16:52:35.581772500Z"
    }
   },
   "id": "198ce41c24f2e5f"
  },
  {
   "cell_type": "code",
   "execution_count": 59,
   "outputs": [],
   "source": [
    "# # The data is in 0/1 simple digit form. So no need to transform and scale. In case of need, uncomment the following code.\n",
    "# \n",
    "# Creating a scaler model that is fit on the input data.\n",
    "# scaler = sk.preprocessing.StandardScaler().fit(X_data)\n",
    "# \n",
    "# # Scaling the numeric feature variables\n",
    "# X_data = scaler.transform(X_data)\n",
    "# X_data"
   ],
   "metadata": {
    "collapsed": false,
    "ExecuteTime": {
     "end_time": "2023-08-25T16:52:36.313034700Z",
     "start_time": "2023-08-25T16:52:36.297555500Z"
    }
   },
   "id": "271faaaaf9e737f8"
  },
  {
   "cell_type": "code",
   "execution_count": 60,
   "outputs": [
    {
     "data": {
      "text/plain": "array([[0., 1., 0.],\n       [0., 1., 0.],\n       [0., 1., 0.],\n       ...,\n       [0., 1., 0.],\n       [0., 0., 1.],\n       [1., 0., 0.]], dtype=float32)"
     },
     "execution_count": 60,
     "metadata": {},
     "output_type": "execute_result"
    }
   ],
   "source": [
    "# Converting the target variable as a one-hot-encoding array\n",
    "Y_data = tf.keras.utils.to_categorical(Y_data, 3)\n",
    "Y_data"
   ],
   "metadata": {
    "collapsed": false,
    "ExecuteTime": {
     "end_time": "2023-08-25T16:52:37.668833500Z",
     "start_time": "2023-08-25T16:52:37.631704300Z"
    }
   },
   "id": "daaddf55a589fbf6"
  },
  {
   "cell_type": "code",
   "execution_count": 61,
   "outputs": [
    {
     "name": "stdout",
     "output_type": "stream",
     "text": [
      "(900, 7) (900, 3) (100, 7) (100, 3)\n"
     ]
    }
   ],
   "source": [
    "# Splitting the training and test data\n",
    "X_train, X_test, Y_train, Y_test = sk.model_selection.train_test_split( X_data, Y_data, test_size=0.10)\n",
    "print(X_train.shape, Y_train.shape, X_test.shape, Y_test.shape)"
   ],
   "metadata": {
    "collapsed": false,
    "ExecuteTime": {
     "end_time": "2023-08-25T16:52:38.593025400Z",
     "start_time": "2023-08-25T16:52:38.577402300Z"
    }
   },
   "id": "2c3c9b8b0921bcc0"
  },
  {
   "cell_type": "code",
   "execution_count": 92,
   "outputs": [
    {
     "name": "stdout",
     "output_type": "stream",
     "text": [
      "Model: \"sequential_21\"\n",
      "_________________________________________________________________\n",
      " Layer (type)                Output Shape              Param #   \n",
      "=================================================================\n",
      " Hidden-Layer-1 (Dense)      (None, 128)               1024      \n",
      "                                                                 \n",
      " Hidden-Layer-2 (Dense)      (None, 128)               16512     \n",
      "                                                                 \n",
      " Output-Layer (Dense)        (None, 3)                 387       \n",
      "                                                                 \n",
      "=================================================================\n",
      "Total params: 17923 (70.01 KB)\n",
      "Trainable params: 17923 (70.01 KB)\n",
      "Non-trainable params: 0 (0.00 Byte)\n",
      "_________________________________________________________________\n"
     ]
    }
   ],
   "source": [
    "# Specifying the number of classes in the target variable\n",
    "NB_CLASSES = 3\n",
    "\n",
    "# Creating a sequential model in Keras\n",
    "model = tf.keras.models.Sequential()\n",
    "\n",
    "# Adding the first hidden layer\n",
    "model.add(tf.keras.layers.Dense(128,                    # Number of nodes\n",
    "                                input_shape = (7, ),      # Number of input variables\n",
    "                                name = 'Hidden-Layer-1',  # Logical name\n",
    "                                activation = 'relu'))     # Activation function\n",
    "\n",
    "# Adding the second hidden layer\n",
    "model.add(tf.keras.layers.Dense(128,                    # Number of nodes\n",
    "                                name = 'Hidden-Layer-2',  # Logical name\n",
    "                                activation = 'relu'))     # Activation function\n",
    "\n",
    "# # Adding the third hidden layer\n",
    "# model.add(tf.keras.layers.Dense(32,                    # Number of nodes\n",
    "#                                 name = 'Hidden-Layer-3',  # Logical name\n",
    "#                                 activation = 'relu'))     # Activation function\n",
    "\n",
    "# Adding an output layer with the Softmax activation function\n",
    "model.add(tf.keras.layers.Dense(NB_CLASSES,\n",
    "                                name = 'Output-Layer',\n",
    "                                activation = 'softmax'))\n",
    "\n",
    "# Compiling the model with loss and metrics\n",
    "model.compile(loss = 'categorical_crossentropy', metrics = ['accuracy'])\n",
    "\n",
    "# Reviewing the model's meta-data\n",
    "model.summary()"
   ],
   "metadata": {
    "collapsed": false,
    "ExecuteTime": {
     "end_time": "2023-08-25T17:36:15.887633700Z",
     "start_time": "2023-08-25T17:36:15.771113100Z"
    }
   },
   "id": "4839412c31036466"
  },
  {
   "cell_type": "code",
   "execution_count": 93,
   "outputs": [
    {
     "name": "stdout",
     "output_type": "stream",
     "text": [
      "Epoch 1/20\n",
      "23/23 [==============================] - 1s 8ms/step - loss: 0.8271 - accuracy: 0.7361 - val_loss: 0.6477 - val_accuracy: 0.8000\n",
      "Epoch 2/20\n",
      "23/23 [==============================] - 0s 3ms/step - loss: 0.5654 - accuracy: 0.8056 - val_loss: 0.5178 - val_accuracy: 0.8167\n",
      "Epoch 3/20\n",
      "23/23 [==============================] - 0s 2ms/step - loss: 0.5004 - accuracy: 0.8042 - val_loss: 0.4899 - val_accuracy: 0.8000\n",
      "Epoch 4/20\n",
      "23/23 [==============================] - 0s 2ms/step - loss: 0.4817 - accuracy: 0.8083 - val_loss: 0.5112 - val_accuracy: 0.7722\n",
      "Epoch 5/20\n",
      "23/23 [==============================] - 0s 2ms/step - loss: 0.4730 - accuracy: 0.8250 - val_loss: 0.4868 - val_accuracy: 0.7833\n",
      "Epoch 6/20\n",
      "23/23 [==============================] - 0s 2ms/step - loss: 0.4616 - accuracy: 0.8208 - val_loss: 0.4716 - val_accuracy: 0.7833\n",
      "Epoch 7/20\n",
      "23/23 [==============================] - 0s 2ms/step - loss: 0.4553 - accuracy: 0.8319 - val_loss: 0.4454 - val_accuracy: 0.8111\n",
      "Epoch 8/20\n",
      "23/23 [==============================] - 0s 3ms/step - loss: 0.4438 - accuracy: 0.8347 - val_loss: 0.4360 - val_accuracy: 0.8056\n",
      "Epoch 9/20\n",
      "23/23 [==============================] - 0s 2ms/step - loss: 0.4387 - accuracy: 0.8403 - val_loss: 0.4499 - val_accuracy: 0.8000\n",
      "Epoch 10/20\n",
      "23/23 [==============================] - 0s 2ms/step - loss: 0.4302 - accuracy: 0.8389 - val_loss: 0.4394 - val_accuracy: 0.7944\n",
      "Epoch 11/20\n",
      "23/23 [==============================] - 0s 3ms/step - loss: 0.4257 - accuracy: 0.8486 - val_loss: 0.4558 - val_accuracy: 0.8111\n",
      "Epoch 12/20\n",
      "23/23 [==============================] - 0s 2ms/step - loss: 0.4157 - accuracy: 0.8472 - val_loss: 0.4555 - val_accuracy: 0.7944\n",
      "Epoch 13/20\n",
      "23/23 [==============================] - 0s 3ms/step - loss: 0.4130 - accuracy: 0.8458 - val_loss: 0.4209 - val_accuracy: 0.8167\n",
      "Epoch 14/20\n",
      "23/23 [==============================] - 0s 2ms/step - loss: 0.4060 - accuracy: 0.8542 - val_loss: 0.4419 - val_accuracy: 0.8000\n",
      "Epoch 15/20\n",
      "23/23 [==============================] - 0s 2ms/step - loss: 0.4031 - accuracy: 0.8542 - val_loss: 0.4516 - val_accuracy: 0.8000\n",
      "Epoch 16/20\n",
      "23/23 [==============================] - 0s 2ms/step - loss: 0.3989 - accuracy: 0.8486 - val_loss: 0.4348 - val_accuracy: 0.8000\n",
      "Epoch 17/20\n",
      "23/23 [==============================] - 0s 2ms/step - loss: 0.3938 - accuracy: 0.8500 - val_loss: 0.4152 - val_accuracy: 0.8222\n",
      "Epoch 18/20\n",
      "23/23 [==============================] - 0s 2ms/step - loss: 0.3872 - accuracy: 0.8611 - val_loss: 0.4746 - val_accuracy: 0.8056\n",
      "Epoch 19/20\n",
      "23/23 [==============================] - 0s 2ms/step - loss: 0.3870 - accuracy: 0.8500 - val_loss: 0.4645 - val_accuracy: 0.8056\n",
      "Epoch 20/20\n",
      "23/23 [==============================] - 0s 2ms/step - loss: 0.3761 - accuracy: 0.8556 - val_loss: 0.4433 - val_accuracy: 0.8000\n"
     ]
    }
   ],
   "source": [
    "# Making it verbose so we can see the progress\n",
    "VERBOSE = 1\n",
    "\n",
    "#**************** Setting up the Hyper-Parameters for training ****************#\n",
    "\n",
    "# Setting the Batch size\n",
    "BATCH_SIZE = 32\n",
    "\n",
    "# Setting the number of Epochs\n",
    "EPOCHS = 20\n",
    "\n",
    "# Setting the validation split: 20% of the \"Training\" data will be used for validation after each Epoch\n",
    "VALIDATION_SPLIT = 0.2\n",
    "\n",
    "# Fitting the model:\n",
    "# This will perform the entire training cycle, including forward propagation, loss computation, backward propagation and gradient descent.\n",
    "# Executing for the specified Batch sizes and Epoch, and performing validation after each Epoch. \n",
    "history = model.fit(X_train,\n",
    "                    Y_train,\n",
    "                    batch_size = BATCH_SIZE,\n",
    "                    epochs = EPOCHS,\n",
    "                    verbose = VERBOSE,\n",
    "                    validation_split = VALIDATION_SPLIT)"
   ],
   "metadata": {
    "collapsed": false,
    "ExecuteTime": {
     "end_time": "2023-08-25T17:36:18.368095Z",
     "start_time": "2023-08-25T17:36:16.577930800Z"
    }
   },
   "id": "fdc43f2638c9e1b8"
  },
  {
   "cell_type": "code",
   "execution_count": 94,
   "outputs": [
    {
     "data": {
      "text/plain": "<Figure size 800x500 with 1 Axes>",
      "image/png": "[encoded data removed]"
     },
     "metadata": {},
     "output_type": "display_data"
    }
   ],
   "source": [
    "# Plotting the accuracy of the model after each Epoch.\n",
    "import matplotlib.pyplot as plt\n",
    "\n",
    "pd.DataFrame(history.history)[\"accuracy\"].plot(figsize = (8, 5))\n",
    "plt.title(\"Accuracy Improvements with Each Epoch\")\n",
    "plt.show()"
   ],
   "metadata": {
    "collapsed": false,
    "ExecuteTime": {
     "end_time": "2023-08-25T17:36:19.392202Z",
     "start_time": "2023-08-25T17:36:19.138358400Z"
    }
   },
   "id": "58d3cb39f56a2985"
  },
  {
   "cell_type": "code",
   "execution_count": 24,
   "outputs": [
    {
     "name": "stdout",
     "output_type": "stream",
     "text": [
      "4/4 [==============================] - 0s 1ms/step - loss: 0.4406 - accuracy: 0.7800\n"
     ]
    },
    {
     "data": {
      "text/plain": "[0.44058093428611755, 0.7799999713897705]"
     },
     "execution_count": 24,
     "metadata": {},
     "output_type": "execute_result"
    }
   ],
   "source": [
    "# Evaluating the model against the Test dataset.\n",
    "model.evaluate(X_test,Y_test)"
   ],
   "metadata": {
    "collapsed": false,
    "ExecuteTime": {
     "end_time": "2023-08-25T16:35:26.670063Z",
     "start_time": "2023-08-25T16:35:26.538594200Z"
    }
   },
   "id": "8979c1a4fe727a56"
  },
  {
   "cell_type": "code",
   "execution_count": 67,
   "outputs": [
    {
     "name": "stdout",
     "output_type": "stream",
     "text": [
      "1/1 [==============================] - 0s 323ms/step\n",
      "['DATABASE_ISSUE']\n"
     ]
    }
   ],
   "source": [
    "# Passing individual flags as an example case to predict the root cause\n",
    "prediction = np.argmax(model.predict([[1, 0, 0, 0, 1, 1, 0]]), axis=1 )\n",
    "print(label_encoder.inverse_transform(prediction))"
   ],
   "metadata": {
    "collapsed": false,
    "ExecuteTime": {
     "end_time": "2023-08-25T17:27:09.699932700Z",
     "start_time": "2023-08-25T17:27:09.330272900Z"
    }
   },
   "id": "7be07274b1f46e27"
  },
  {
   "cell_type": "code",
   "execution_count": 68,
   "outputs": [
    {
     "name": "stdout",
     "output_type": "stream",
     "text": [
      "1/1 [==============================] - 0s 47ms/step\n",
      "['DATABASE_ISSUE' 'NETWORK_DELAY' 'MEMORY_LEAK' 'DATABASE_ISSUE'\n",
      " 'DATABASE_ISSUE']\n"
     ]
    }
   ],
   "source": [
    "# Predicting as a Batch\n",
    "print(label_encoder.inverse_transform(np.argmax(model.predict([[1,0,0,0,1,1,0],\n",
    "                                                               [0,1,1,1,0,0,0],\n",
    "                                                               [1,1,0,1,1,0,1],\n",
    "                                                               [0,0,0,0,0,1,0],\n",
    "                                                               [1,0,1,0,1,1,1]]), axis=1 )))"
   ],
   "metadata": {
    "collapsed": false,
    "ExecuteTime": {
     "end_time": "2023-08-25T17:28:42.602536100Z",
     "start_time": "2023-08-25T17:28:42.517704100Z"
    }
   },
   "id": "a924999f3c3504ba"
  },
  {
   "cell_type": "code",
   "execution_count": null,
   "outputs": [],
   "source": [],
   "metadata": {
    "collapsed": false
   },
   "id": "a0ae78abfcb4aaaa"
  }
 ],
 "metadata": {
  "kernelspec": {
   "display_name": "Python 3",
   "language": "python",
   "name": "python3"
  },
  "language_info": {
   "codemirror_mode": {
    "name": "ipython",
    "version": 2
   },
   "file_extension": ".py",
   "mimetype": "text/x-python",
   "name": "python",
   "nbconvert_exporter": "python",
   "pygments_lexer": "ipython2",
   "version": "2.7.6"
  }
 },
 "nbformat": 4,
 "nbformat_minor": 5
}
