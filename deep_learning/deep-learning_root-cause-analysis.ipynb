{
 "cells": [
  {
   "cell_type": "code",
   "execution_count": 1,
   "id": "initial_id",
   "metadata": {
    "collapsed": true,
    "ExecuteTime": {
     "end_time": "2023-09-05T01:09:12.982926Z",
     "start_time": "2023-09-05T01:09:11.063738Z"
    }
   },
   "outputs": [],
   "source": [
    "import pandas as pd\n",
    "import os\n",
    "import tensorflow as tf\n",
    "import numpy as np\n",
    "import sklearn as sk"
   ]
  },
  {
   "cell_type": "code",
   "execution_count": 2,
   "outputs": [
    {
     "data": {
      "text/plain": "       ID  CPU_LOAD  MEMORY_LEAK_LOAD  DELAY  ERROR_1000  ERROR_1001  \\\n0       1         0                 0      0           0           1   \n1       2         0                 0      0           0           0   \n2       3         0                 1      1           0           0   \n3       4         0                 1      0           1           1   \n4       5         1                 1      0           1           0   \n..    ...       ...               ...    ...         ...         ...   \n995   996         0                 0      0           0           0   \n996   997         0                 0      0           1           0   \n997   998         1                 1      1           0           0   \n998   999         0                 1      1           1           1   \n999  1000         1                 0      0           0           1   \n\n     ERROR_1002  ERROR_1003      ROOT_CAUSE  \n0             0           1     MEMORY_LEAK  \n1             0           1     MEMORY_LEAK  \n2             1           1     MEMORY_LEAK  \n3             0           1     MEMORY_LEAK  \n4             1           0   NETWORK_DELAY  \n..          ...         ...             ...  \n995           0           1  DATABASE_ISSUE  \n996           0           0   NETWORK_DELAY  \n997           0           0     MEMORY_LEAK  \n998           0           0   NETWORK_DELAY  \n999           1           0  DATABASE_ISSUE  \n\n[1000 rows x 9 columns]",
      "text/html": "<div>\n<style scoped>\n    .dataframe tbody tr th:only-of-type {\n        vertical-align: middle;\n    }\n\n    .dataframe tbody tr th {\n        vertical-align: top;\n    }\n\n    .dataframe thead th {\n        text-align: right;\n    }\n</style>\n<table border=\"1\" class=\"dataframe\">\n  <thead>\n    <tr style=\"text-align: right;\">\n      <th></th>\n      <th>ID</th>\n      <th>CPU_LOAD</th>\n      <th>MEMORY_LEAK_LOAD</th>\n      <th>DELAY</th>\n      <th>ERROR_1000</th>\n      <th>ERROR_1001</th>\n      <th>ERROR_1002</th>\n      <th>ERROR_1003</th>\n      <th>ROOT_CAUSE</th>\n    </tr>\n  </thead>\n  <tbody>\n    <tr>\n      <th>0</th>\n      <td>1</td>\n      <td>0</td>\n      <td>0</td>\n      <td>0</td>\n      <td>0</td>\n      <td>1</td>\n      <td>0</td>\n      <td>1</td>\n      <td>MEMORY_LEAK</td>\n    </tr>\n    <tr>\n      <th>1</th>\n      <td>2</td>\n      <td>0</td>\n      <td>0</td>\n      <td>0</td>\n      <td>0</td>\n      <td>0</td>\n      <td>0</td>\n      <td>1</td>\n      <td>MEMORY_LEAK</td>\n    </tr>\n    <tr>\n      <th>2</th>\n      <td>3</td>\n      <td>0</td>\n      <td>1</td>\n      <td>1</td>\n      <td>0</td>\n      <td>0</td>\n      <td>1</td>\n      <td>1</td>\n      <td>MEMORY_LEAK</td>\n    </tr>\n    <tr>\n      <th>3</th>\n      <td>4</td>\n      <td>0</td>\n      <td>1</td>\n      <td>0</td>\n      <td>1</td>\n      <td>1</td>\n      <td>0</td>\n      <td>1</td>\n      <td>MEMORY_LEAK</td>\n    </tr>\n    <tr>\n      <th>4</th>\n      <td>5</td>\n      <td>1</td>\n      <td>1</td>\n      <td>0</td>\n      <td>1</td>\n      <td>0</td>\n      <td>1</td>\n      <td>0</td>\n      <td>NETWORK_DELAY</td>\n    </tr>\n    <tr>\n      <th>...</th>\n      <td>...</td>\n      <td>...</td>\n      <td>...</td>\n      <td>...</td>\n      <td>...</td>\n      <td>...</td>\n      <td>...</td>\n      <td>...</td>\n      <td>...</td>\n    </tr>\n    <tr>\n      <th>995</th>\n      <td>996</td>\n      <td>0</td>\n      <td>0</td>\n      <td>0</td>\n      <td>0</td>\n      <td>0</td>\n      <td>0</td>\n      <td>1</td>\n      <td>DATABASE_ISSUE</td>\n    </tr>\n    <tr>\n      <th>996</th>\n      <td>997</td>\n      <td>0</td>\n      <td>0</td>\n      <td>0</td>\n      <td>1</td>\n      <td>0</td>\n      <td>0</td>\n      <td>0</td>\n      <td>NETWORK_DELAY</td>\n    </tr>\n    <tr>\n      <th>997</th>\n      <td>998</td>\n      <td>1</td>\n      <td>1</td>\n      <td>1</td>\n      <td>0</td>\n      <td>0</td>\n      <td>0</td>\n      <td>0</td>\n      <td>MEMORY_LEAK</td>\n    </tr>\n    <tr>\n      <th>998</th>\n      <td>999</td>\n      <td>0</td>\n      <td>1</td>\n      <td>1</td>\n      <td>1</td>\n      <td>1</td>\n      <td>0</td>\n      <td>0</td>\n      <td>NETWORK_DELAY</td>\n    </tr>\n    <tr>\n      <th>999</th>\n      <td>1000</td>\n      <td>1</td>\n      <td>0</td>\n      <td>0</td>\n      <td>0</td>\n      <td>1</td>\n      <td>1</td>\n      <td>0</td>\n      <td>DATABASE_ISSUE</td>\n    </tr>\n  </tbody>\n</table>\n<p>1000 rows × 9 columns</p>\n</div>"
     },
     "execution_count": 2,
     "metadata": {},
     "output_type": "execute_result"
    }
   ],
   "source": [
    "# Loading data and previewing the content\n",
    "errors_data = pd.read_csv(\"root_cause_analysis.csv\")\n",
    "errors_data"
   ],
   "metadata": {
    "collapsed": false,
    "ExecuteTime": {
     "end_time": "2023-09-05T01:09:14.088146Z",
     "start_time": "2023-09-05T01:09:14.049872Z"
    }
   },
   "id": "41f2ac71323af06"
  },
  {
   "cell_type": "code",
   "execution_count": 4,
   "outputs": [
    {
     "data": {
      "text/plain": "array([1, 2, 0])"
     },
     "execution_count": 4,
     "metadata": {},
     "output_type": "execute_result"
    }
   ],
   "source": [
    "# Using a label encoder to convert String to numeric values for the target variable\n",
    "from sklearn import preprocessing\n",
    "label_encoder = sk.preprocessing.LabelEncoder()\n",
    "errors_data['ROOT_CAUSE'] = label_encoder.fit_transform(errors_data['ROOT_CAUSE'])\n",
    "errors_data['ROOT_CAUSE'].unique()"
   ],
   "metadata": {
    "collapsed": false,
    "ExecuteTime": {
     "end_time": "2023-09-05T01:10:35.555638Z",
     "start_time": "2023-09-05T01:10:35.518832Z"
    }
   },
   "id": "e5daca94cdd98178"
  },
  {
   "cell_type": "code",
   "execution_count": 5,
   "outputs": [
    {
     "data": {
      "text/plain": "array([[   1,    0,    0, ...,    0,    1,    1],\n       [   2,    0,    0, ...,    0,    1,    1],\n       [   3,    0,    1, ...,    1,    1,    1],\n       ...,\n       [ 998,    1,    1, ...,    0,    0,    1],\n       [ 999,    0,    1, ...,    0,    0,    2],\n       [1000,    1,    0, ...,    1,    0,    0]])"
     },
     "execution_count": 5,
     "metadata": {},
     "output_type": "execute_result"
    }
   ],
   "source": [
    "# Converting the input to a numpy array\n",
    "np_errors = errors_data.to_numpy()\n",
    "np_errors"
   ],
   "metadata": {
    "collapsed": false,
    "ExecuteTime": {
     "end_time": "2023-09-05T01:10:54.039336Z",
     "start_time": "2023-09-05T01:10:54.035640Z"
    }
   },
   "id": "88e32ed4df7b39c4"
  },
  {
   "cell_type": "code",
   "execution_count": 6,
   "outputs": [
    {
     "data": {
      "text/plain": "array([[0, 0, 0, ..., 1, 0, 1],\n       [0, 0, 0, ..., 0, 0, 1],\n       [0, 1, 1, ..., 0, 1, 1],\n       ...,\n       [1, 1, 1, ..., 0, 0, 0],\n       [0, 1, 1, ..., 1, 0, 0],\n       [1, 0, 0, ..., 1, 1, 0]])"
     },
     "execution_count": 6,
     "metadata": {},
     "output_type": "execute_result"
    }
   ],
   "source": [
    "# Separating feature and target variables\n",
    "X_data = np_errors[:,1:8]\n",
    "X_data"
   ],
   "metadata": {
    "collapsed": false,
    "ExecuteTime": {
     "end_time": "2023-09-05T01:10:55.016031Z",
     "start_time": "2023-09-05T01:10:55.011429Z"
    }
   },
   "id": "b0a49c8bb64f998c"
  },
  {
   "cell_type": "code",
   "execution_count": 7,
   "outputs": [
    {
     "data": {
      "text/plain": "array([1, 1, 1, 1, 2, 2, 2, 0, 1, 2, 1, 0, 1, 0, 2, 1, 1, 1, 2, 1, 2, 1,\n       1, 1, 2, 1, 1, 2, 2, 1, 0, 1, 1, 2, 1, 0, 1, 0, 0, 2, 2, 0, 1, 0,\n       2, 2, 2, 0, 2, 0, 1, 0, 0, 0, 2, 1, 2, 1, 0, 0, 2, 1, 0, 1, 2, 1,\n       0, 0, 1, 2, 1, 0, 1, 0, 2, 1, 2, 2, 2, 2, 2, 1, 2, 1, 2, 2, 0, 1,\n       1, 0, 1, 1, 1, 1, 1, 2, 0, 1, 1, 1, 1, 1, 2, 0, 1, 2, 2, 0, 0, 1,\n       2, 2, 2, 0, 0, 0, 1, 1, 1, 2, 1, 0, 2, 0, 0, 2, 2, 2, 1, 0, 2, 1,\n       0, 0, 0, 0, 0, 2, 1, 1, 2, 0, 0, 1, 0, 2, 1, 2, 0, 2, 2, 1, 0, 2,\n       0, 0, 0, 2, 2, 1, 2, 2, 2, 0, 2, 2, 1, 0, 1, 1, 0, 1, 2, 1, 1, 0,\n       1, 1, 1, 0, 2, 1, 0, 0, 1, 0, 1, 2, 0, 1, 1, 1, 2, 1, 2, 0, 0, 0,\n       0, 1, 0, 2, 1, 1, 0, 2, 0, 1, 1, 0, 0, 0, 2, 0, 0, 0, 1, 2, 0, 1,\n       0, 0, 2, 1, 2, 2, 0, 1, 0, 2, 2, 2, 0, 0, 2, 2, 2, 1, 1, 1, 2, 0,\n       2, 0, 2, 0, 2, 1, 0, 1, 2, 1, 2, 2, 1, 2, 0, 0, 2, 2, 1, 1, 0, 0,\n       0, 1, 0, 2, 2, 1, 0, 2, 2, 0, 0, 0, 2, 2, 0, 2, 1, 2, 0, 0, 2, 0,\n       2, 2, 2, 0, 0, 0, 0, 1, 1, 0, 2, 1, 2, 0, 1, 1, 1, 1, 2, 2, 2, 0,\n       1, 2, 1, 0, 1, 0, 2, 1, 1, 1, 2, 1, 2, 1, 1, 1, 2, 1, 1, 2, 2, 1,\n       0, 1, 1, 2, 1, 0, 1, 0, 0, 2, 2, 0, 1, 0, 2, 2, 2, 0, 2, 0, 1, 0,\n       0, 0, 2, 1, 2, 1, 0, 0, 2, 1, 0, 1, 2, 1, 0, 0, 1, 2, 1, 0, 1, 0,\n       2, 1, 2, 2, 2, 2, 2, 1, 2, 1, 2, 2, 0, 1, 1, 0, 1, 1, 1, 1, 1, 2,\n       0, 1, 1, 1, 1, 1, 2, 0, 1, 2, 2, 0, 0, 1, 2, 2, 2, 0, 0, 0, 1, 1,\n       1, 2, 1, 0, 2, 0, 0, 2, 2, 2, 1, 0, 2, 1, 0, 0, 0, 0, 0, 2, 1, 1,\n       2, 0, 0, 1, 0, 2, 1, 2, 0, 2, 2, 1, 0, 2, 0, 0, 0, 2, 2, 1, 2, 2,\n       2, 0, 2, 2, 1, 0, 1, 1, 0, 1, 2, 1, 1, 0, 1, 1, 1, 0, 2, 1, 0, 0,\n       1, 0, 1, 2, 0, 1, 1, 1, 2, 1, 2, 0, 0, 0, 0, 1, 0, 2, 1, 1, 0, 2,\n       0, 1, 1, 0, 0, 0, 2, 0, 0, 0, 1, 2, 0, 1, 0, 0, 2, 1, 2, 2, 0, 1,\n       0, 2, 2, 2, 0, 0, 2, 2, 2, 1, 1, 1, 2, 0, 2, 0, 2, 0, 2, 1, 0, 1,\n       2, 1, 2, 2, 1, 2, 0, 0, 2, 2, 1, 1, 0, 0, 0, 1, 0, 2, 2, 1, 0, 2,\n       2, 0, 0, 0, 2, 2, 0, 2, 1, 2, 0, 0, 2, 0, 2, 2, 2, 0, 0, 0, 0, 1,\n       1, 0, 2, 1, 2, 0, 1, 1, 1, 1, 2, 2, 2, 0, 1, 2, 1, 0, 1, 0, 2, 1,\n       1, 1, 2, 1, 2, 1, 1, 1, 2, 1, 1, 2, 2, 1, 0, 1, 1, 2, 1, 0, 1, 0,\n       0, 2, 2, 0, 1, 0, 2, 2, 2, 0, 2, 0, 1, 0, 0, 0, 2, 1, 2, 1, 0, 0,\n       2, 1, 0, 1, 2, 1, 0, 0, 1, 2, 1, 0, 1, 0, 2, 1, 2, 2, 2, 2, 2, 1,\n       2, 1, 2, 2, 0, 1, 1, 0, 1, 1, 1, 1, 1, 2, 0, 1, 1, 1, 1, 1, 2, 0,\n       1, 2, 2, 0, 0, 1, 2, 2, 2, 0, 0, 0, 1, 1, 1, 2, 1, 0, 2, 0, 0, 2,\n       2, 2, 1, 0, 2, 1, 0, 0, 0, 0, 0, 2, 1, 1, 2, 0, 0, 1, 0, 2, 1, 2,\n       0, 2, 2, 1, 0, 2, 0, 0, 0, 2, 2, 1, 2, 2, 2, 0, 2, 2, 1, 0, 1, 1,\n       0, 1, 2, 1, 1, 0, 1, 1, 1, 0, 2, 1, 0, 0, 1, 0, 1, 2, 0, 1, 1, 1,\n       2, 1, 2, 0, 0, 0, 0, 1, 0, 2, 1, 1, 0, 2, 0, 1, 1, 0, 0, 0, 2, 0,\n       0, 0, 1, 2, 0, 1, 0, 0, 2, 1, 2, 2, 0, 1, 0, 2, 2, 2, 0, 0, 2, 2,\n       2, 1, 1, 1, 2, 0, 2, 0, 2, 0, 2, 1, 0, 1, 2, 1, 2, 2, 1, 2, 0, 0,\n       2, 2, 1, 1, 0, 0, 0, 1, 0, 2, 2, 1, 0, 2, 2, 0, 0, 0, 2, 2, 0, 2,\n       1, 2, 0, 0, 2, 0, 2, 2, 2, 0, 0, 0, 0, 1, 1, 0, 2, 1, 2, 0, 0, 2,\n       1, 1, 0, 2, 0, 1, 1, 0, 0, 0, 2, 0, 0, 0, 1, 2, 0, 1, 0, 0, 2, 1,\n       2, 2, 0, 1, 0, 2, 2, 2, 0, 0, 2, 2, 2, 1, 1, 1, 2, 0, 2, 0, 2, 0,\n       2, 1, 0, 1, 2, 1, 2, 2, 1, 2, 0, 0, 2, 2, 1, 1, 0, 0, 0, 1, 0, 2,\n       2, 1, 0, 2, 2, 0, 0, 0, 2, 2, 0, 2, 1, 2, 0, 0, 2, 0, 2, 2, 2, 0,\n       0, 0, 0, 1, 1, 0, 2, 1, 2, 0])"
     },
     "execution_count": 7,
     "metadata": {},
     "output_type": "execute_result"
    }
   ],
   "source": [
    "Y_data = np_errors[:,8]\n",
    "Y_data"
   ],
   "metadata": {
    "collapsed": false,
    "ExecuteTime": {
     "end_time": "2023-09-05T01:10:55.935321Z",
     "start_time": "2023-09-05T01:10:55.932036Z"
    }
   },
   "id": "198ce41c24f2e5f"
  },
  {
   "cell_type": "code",
   "execution_count": 8,
   "outputs": [],
   "source": [
    "# # The data is in 0/1 simple digit form. So no need to transform and scale. In case of need, uncomment the following code.\n",
    "# \n",
    "# Creating a scaler model that is fit on the input data.\n",
    "# scaler = sk.preprocessing.StandardScaler().fit(X_data)\n",
    "# \n",
    "# # Scaling the numeric feature variables\n",
    "# X_data = scaler.transform(X_data)\n",
    "# X_data"
   ],
   "metadata": {
    "collapsed": false,
    "ExecuteTime": {
     "end_time": "2023-09-05T01:10:58.646580Z",
     "start_time": "2023-09-05T01:10:58.643094Z"
    }
   },
   "id": "271faaaaf9e737f8"
  },
  {
   "cell_type": "code",
   "execution_count": 9,
   "outputs": [
    {
     "data": {
      "text/plain": "array([[0., 1., 0.],\n       [0., 1., 0.],\n       [0., 1., 0.],\n       ...,\n       [0., 1., 0.],\n       [0., 0., 1.],\n       [1., 0., 0.]], dtype=float32)"
     },
     "execution_count": 9,
     "metadata": {},
     "output_type": "execute_result"
    }
   ],
   "source": [
    "# Converting the target variable as a one-hot-encoding array\n",
    "Y_data = tf.keras.utils.to_categorical(Y_data, 3)\n",
    "Y_data"
   ],
   "metadata": {
    "collapsed": false,
    "ExecuteTime": {
     "end_time": "2023-09-05T01:11:00.401527Z",
     "start_time": "2023-09-05T01:11:00.398085Z"
    }
   },
   "id": "daaddf55a589fbf6"
  },
  {
   "cell_type": "code",
   "execution_count": 12,
   "outputs": [
    {
     "name": "stdout",
     "output_type": "stream",
     "text": [
      "(900, 7) (900, 3) (100, 7) (100, 3)\n"
     ]
    }
   ],
   "source": [
    "# Splitting the training and test data\n",
    "from sklearn import model_selection\n",
    "X_train, X_test, Y_train, Y_test = sk.model_selection.train_test_split( X_data, Y_data, test_size=0.10)\n",
    "print(X_train.shape, Y_train.shape, X_test.shape, Y_test.shape)"
   ],
   "metadata": {
    "collapsed": false,
    "ExecuteTime": {
     "end_time": "2023-09-05T01:11:32.892272Z",
     "start_time": "2023-09-05T01:11:32.888634Z"
    }
   },
   "id": "2c3c9b8b0921bcc0"
  },
  {
   "cell_type": "code",
   "execution_count": 13,
   "outputs": [
    {
     "name": "stdout",
     "output_type": "stream",
     "text": [
      "Model: \"sequential\"\n",
      "_________________________________________________________________\n",
      " Layer (type)                Output Shape              Param #   \n",
      "=================================================================\n",
      " Hidden-Layer-1 (Dense)      (None, 128)               1024      \n",
      "                                                                 \n",
      " Hidden-Layer-2 (Dense)      (None, 128)               16512     \n",
      "                                                                 \n",
      " Output-Layer (Dense)        (None, 3)                 387       \n",
      "                                                                 \n",
      "=================================================================\n",
      "Total params: 17,923\n",
      "Trainable params: 17,923\n",
      "Non-trainable params: 0\n",
      "_________________________________________________________________\n"
     ]
    }
   ],
   "source": [
    "# Specifying the number of classes in the target variable\n",
    "NB_CLASSES = 3\n",
    "\n",
    "# Creating a sequential model in Keras\n",
    "model = tf.keras.models.Sequential()\n",
    "\n",
    "# Adding the first hidden layer\n",
    "model.add(tf.keras.layers.Dense(128,                    # Number of nodes\n",
    "                                input_shape = (7, ),      # Number of input variables\n",
    "                                name = 'Hidden-Layer-1',  # Logical name\n",
    "                                activation = 'relu'))     # Activation function\n",
    "\n",
    "# Adding the second hidden layer\n",
    "model.add(tf.keras.layers.Dense(128,                    # Number of nodes\n",
    "                                name = 'Hidden-Layer-2',  # Logical name\n",
    "                                activation = 'relu'))     # Activation function\n",
    "\n",
    "# # Adding the third hidden layer\n",
    "# model.add(tf.keras.layers.Dense(32,                    # Number of nodes\n",
    "#                                 name = 'Hidden-Layer-3',  # Logical name\n",
    "#                                 activation = 'relu'))     # Activation function\n",
    "\n",
    "# Adding an output layer with the Softmax activation function\n",
    "model.add(tf.keras.layers.Dense(NB_CLASSES,\n",
    "                                name = 'Output-Layer',\n",
    "                                activation = 'softmax'))\n",
    "\n",
    "# Compiling the model with loss and metrics\n",
    "model.compile(loss = 'categorical_crossentropy', metrics = ['accuracy'])\n",
    "\n",
    "# Reviewing the model's meta-data\n",
    "model.summary()"
   ],
   "metadata": {
    "collapsed": false,
    "ExecuteTime": {
     "end_time": "2023-09-05T01:11:34.693665Z",
     "start_time": "2023-09-05T01:11:34.656332Z"
    }
   },
   "id": "4839412c31036466"
  },
  {
   "cell_type": "code",
   "execution_count": 14,
   "outputs": [
    {
     "name": "stdout",
     "output_type": "stream",
     "text": [
      "Epoch 1/20\n"
     ]
    },
    {
     "name": "stderr",
     "output_type": "stream",
     "text": [
      "2023-09-04 19:11:36.348664: W tensorflow/tsl/platform/profile_utils/cpu_utils.cc:128] Failed to get CPU frequency: 0 Hz\n"
     ]
    },
    {
     "name": "stdout",
     "output_type": "stream",
     "text": [
      "23/23 [==============================] - 0s 6ms/step - loss: 0.7881 - accuracy: 0.7431 - val_loss: 0.6101 - val_accuracy: 0.8111\n",
      "Epoch 2/20\n",
      "23/23 [==============================] - 0s 2ms/step - loss: 0.5151 - accuracy: 0.8167 - val_loss: 0.5025 - val_accuracy: 0.8056\n",
      "Epoch 3/20\n",
      "23/23 [==============================] - 0s 2ms/step - loss: 0.4601 - accuracy: 0.8194 - val_loss: 0.4851 - val_accuracy: 0.8056\n",
      "Epoch 4/20\n",
      "23/23 [==============================] - 0s 1ms/step - loss: 0.4415 - accuracy: 0.8278 - val_loss: 0.4615 - val_accuracy: 0.8111\n",
      "Epoch 5/20\n",
      "23/23 [==============================] - 0s 1ms/step - loss: 0.4302 - accuracy: 0.8306 - val_loss: 0.4663 - val_accuracy: 0.8500\n",
      "Epoch 6/20\n",
      "23/23 [==============================] - 0s 1ms/step - loss: 0.4179 - accuracy: 0.8500 - val_loss: 0.4504 - val_accuracy: 0.8333\n",
      "Epoch 7/20\n",
      "23/23 [==============================] - 0s 1ms/step - loss: 0.4153 - accuracy: 0.8472 - val_loss: 0.4569 - val_accuracy: 0.8389\n",
      "Epoch 8/20\n",
      "23/23 [==============================] - 0s 1ms/step - loss: 0.4041 - accuracy: 0.8472 - val_loss: 0.4380 - val_accuracy: 0.8500\n",
      "Epoch 9/20\n",
      "23/23 [==============================] - 0s 1ms/step - loss: 0.3970 - accuracy: 0.8514 - val_loss: 0.4431 - val_accuracy: 0.8389\n",
      "Epoch 10/20\n",
      "23/23 [==============================] - 0s 1ms/step - loss: 0.3883 - accuracy: 0.8556 - val_loss: 0.4399 - val_accuracy: 0.8278\n",
      "Epoch 11/20\n",
      "23/23 [==============================] - 0s 1ms/step - loss: 0.3815 - accuracy: 0.8528 - val_loss: 0.4252 - val_accuracy: 0.8500\n",
      "Epoch 12/20\n",
      "23/23 [==============================] - 0s 1ms/step - loss: 0.3804 - accuracy: 0.8528 - val_loss: 0.4135 - val_accuracy: 0.8500\n",
      "Epoch 13/20\n",
      "23/23 [==============================] - 0s 1ms/step - loss: 0.3711 - accuracy: 0.8500 - val_loss: 0.4154 - val_accuracy: 0.8389\n",
      "Epoch 14/20\n",
      "23/23 [==============================] - 0s 1ms/step - loss: 0.3700 - accuracy: 0.8486 - val_loss: 0.4090 - val_accuracy: 0.8611\n",
      "Epoch 15/20\n",
      "23/23 [==============================] - 0s 1ms/step - loss: 0.3600 - accuracy: 0.8542 - val_loss: 0.4284 - val_accuracy: 0.8389\n",
      "Epoch 16/20\n",
      "23/23 [==============================] - 0s 1ms/step - loss: 0.3642 - accuracy: 0.8569 - val_loss: 0.4040 - val_accuracy: 0.8500\n",
      "Epoch 17/20\n",
      "23/23 [==============================] - 0s 1ms/step - loss: 0.3519 - accuracy: 0.8597 - val_loss: 0.3949 - val_accuracy: 0.8611\n",
      "Epoch 18/20\n",
      "23/23 [==============================] - 0s 1ms/step - loss: 0.3542 - accuracy: 0.8514 - val_loss: 0.3985 - val_accuracy: 0.8667\n",
      "Epoch 19/20\n",
      "23/23 [==============================] - 0s 1ms/step - loss: 0.3445 - accuracy: 0.8583 - val_loss: 0.4111 - val_accuracy: 0.8222\n",
      "Epoch 20/20\n",
      "23/23 [==============================] - 0s 1ms/step - loss: 0.3487 - accuracy: 0.8611 - val_loss: 0.3869 - val_accuracy: 0.8722\n"
     ]
    }
   ],
   "source": [
    "# Making it verbose so we can see the progress\n",
    "VERBOSE = 1\n",
    "\n",
    "#**************** Setting up the Hyper-Parameters for training ****************#\n",
    "\n",
    "# Setting the Batch size\n",
    "BATCH_SIZE = 32\n",
    "\n",
    "# Setting the number of Epochs\n",
    "EPOCHS = 20\n",
    "\n",
    "# Setting the validation split: 20% of the \"Training\" data will be used for validation after each Epoch\n",
    "VALIDATION_SPLIT = 0.2\n",
    "\n",
    "# Fitting the model:\n",
    "# This will perform the entire training cycle, including forward propagation, loss computation, backward propagation and gradient descent.\n",
    "# Executing for the specified Batch sizes and Epoch, and performing validation after each Epoch. \n",
    "history = model.fit(X_train,\n",
    "                    Y_train,\n",
    "                    batch_size = BATCH_SIZE,\n",
    "                    epochs = EPOCHS,\n",
    "                    verbose = VERBOSE,\n",
    "                    validation_split = VALIDATION_SPLIT)"
   ],
   "metadata": {
    "collapsed": false,
    "ExecuteTime": {
     "end_time": "2023-09-05T01:11:37.258462Z",
     "start_time": "2023-09-05T01:11:36.321942Z"
    }
   },
   "id": "fdc43f2638c9e1b8"
  },
  {
   "cell_type": "code",
   "execution_count": 15,
   "outputs": [
    {
     "data": {
      "text/plain": "<Figure size 800x500 with 1 Axes>",
      "image/png": "[encoded data removed]"
     },
     "metadata": {},
     "output_type": "display_data"
    }
   ],
   "source": [
    "# Plotting the accuracy of the model after each Epoch.\n",
    "import matplotlib.pyplot as plt\n",
    "\n",
    "pd.DataFrame(history.history)[\"accuracy\"].plot(figsize = (8, 5))\n",
    "plt.title(\"Accuracy Improvements with Each Epoch\")\n",
    "plt.show()"
   ],
   "metadata": {
    "collapsed": false,
    "ExecuteTime": {
     "end_time": "2023-09-05T01:11:42.306077Z",
     "start_time": "2023-09-05T01:11:42.013404Z"
    }
   },
   "id": "58d3cb39f56a2985"
  },
  {
   "cell_type": "code",
   "execution_count": 16,
   "outputs": [
    {
     "name": "stdout",
     "output_type": "stream",
     "text": [
      "4/4 [==============================] - 0s 1ms/step - loss: 0.5994 - accuracy: 0.8000\n"
     ]
    },
    {
     "data": {
      "text/plain": "[0.5994167327880859, 0.800000011920929]"
     },
     "execution_count": 16,
     "metadata": {},
     "output_type": "execute_result"
    }
   ],
   "source": [
    "# Evaluating the model against the Test dataset.\n",
    "model.evaluate(X_test,Y_test)"
   ],
   "metadata": {
    "collapsed": false,
    "ExecuteTime": {
     "end_time": "2023-09-05T01:11:45.114265Z",
     "start_time": "2023-09-05T01:11:45.073350Z"
    }
   },
   "id": "8979c1a4fe727a56"
  },
  {
   "cell_type": "code",
   "execution_count": 17,
   "outputs": [
    {
     "name": "stdout",
     "output_type": "stream",
     "text": [
      "1/1 [==============================] - 0s 44ms/step\n",
      "['DATABASE_ISSUE']\n"
     ]
    }
   ],
   "source": [
    "# Passing individual flags as an example case to predict the root cause\n",
    "prediction = np.argmax(model.predict([[1, 0, 0, 0, 1, 1, 0]]), axis=1 )\n",
    "print(label_encoder.inverse_transform(prediction))"
   ],
   "metadata": {
    "collapsed": false,
    "ExecuteTime": {
     "end_time": "2023-09-05T01:11:46.143870Z",
     "start_time": "2023-09-05T01:11:46.070489Z"
    }
   },
   "id": "7be07274b1f46e27"
  },
  {
   "cell_type": "code",
   "execution_count": 18,
   "outputs": [
    {
     "name": "stdout",
     "output_type": "stream",
     "text": [
      "1/1 [==============================] - 0s 19ms/step\n",
      "['DATABASE_ISSUE' 'NETWORK_DELAY' 'MEMORY_LEAK' 'DATABASE_ISSUE'\n",
      " 'DATABASE_ISSUE']\n"
     ]
    }
   ],
   "source": [
    "# Predicting as a Batch\n",
    "print(label_encoder.inverse_transform(np.argmax(model.predict([[1,0,0,0,1,1,0],\n",
    "                                                               [0,1,1,1,0,0,0],\n",
    "                                                               [1,1,0,1,1,0,1],\n",
    "                                                               [0,0,0,0,0,1,0],\n",
    "                                                               [1,0,1,0,1,1,1]]), axis=1 )))"
   ],
   "metadata": {
    "collapsed": false,
    "ExecuteTime": {
     "end_time": "2023-09-05T01:11:46.914719Z",
     "start_time": "2023-09-05T01:11:46.875768Z"
    }
   },
   "id": "a924999f3c3504ba"
  },
  {
   "cell_type": "code",
   "execution_count": null,
   "outputs": [],
   "source": [],
   "metadata": {
    "collapsed": false
   },
   "id": "a0ae78abfcb4aaaa"
  }
 ],
 "metadata": {
  "kernelspec": {
   "display_name": "Python 3",
   "language": "python",
   "name": "python3"
  },
  "language_info": {
   "codemirror_mode": {
    "name": "ipython",
    "version": 2
   },
   "file_extension": ".py",
   "mimetype": "text/x-python",
   "name": "python",
   "nbconvert_exporter": "python",
   "pygments_lexer": "ipython2",
   "version": "2.7.6"
  }
 },
 "nbformat": 4,
 "nbformat_minor": 5
}
