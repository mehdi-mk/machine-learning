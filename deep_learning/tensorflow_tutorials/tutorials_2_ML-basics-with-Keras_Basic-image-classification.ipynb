{
 "cells": [
  {
   "cell_type": "markdown",
   "source": [
    "### This module is previously done. Look into: \"../deep-learning_FashionMNIST.ipynb\"."
   ],
   "metadata": {
    "collapsed": false
   },
   "id": "d6d2e1da50613ae0"
  },
  {
   "cell_type": "code",
   "execution_count": null,
   "outputs": [],
   "source": [],
   "metadata": {
    "collapsed": false
   },
   "id": "3f7d63fd3330e97d"
  }
 ],
 "metadata": {
  "kernelspec": {
   "display_name": "Python 3",
   "language": "python",
   "name": "python3"
  },
  "language_info": {
   "codemirror_mode": {
    "name": "ipython",
    "version": 2
   },
   "file_extension": ".py",
   "mimetype": "text/x-python",
   "name": "python",
   "nbconvert_exporter": "python",
   "pygments_lexer": "ipython2",
   "version": "2.7.6"
  }
 },
 "nbformat": 4,
 "nbformat_minor": 5
}
