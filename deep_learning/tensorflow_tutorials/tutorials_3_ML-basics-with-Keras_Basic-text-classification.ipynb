{
 "cells": [
  {
   "cell_type": "markdown",
   "source": [
    "# Sentiment Analysis"
   ],
   "metadata": {
    "collapsed": false
   },
   "id": "c736de9724186d7d"
  },
  {
   "cell_type": "markdown",
   "source": [
    "## A binary classification of IMDB reviews' sentiments (positive or negative)."
   ],
   "metadata": {
    "collapsed": false
   },
   "id": "567a7577a89f463f"
  },
  {
   "cell_type": "code",
   "execution_count": 1,
   "outputs": [],
   "source": [
    "import matplotlib.pyplot as plt\n",
    "import os\n",
    "import re \n",
    "import shutil\n",
    "import string \n",
    "import tensorflow as tf\n",
    "from tensorflow.keras import layers\n",
    "from tensorflow.keras import losses"
   ],
   "metadata": {
    "collapsed": false,
    "ExecuteTime": {
     "end_time": "2023-09-20T17:47:04.143247700Z",
     "start_time": "2023-09-20T17:46:48.615196400Z"
    }
   },
   "id": "744296c575ef540b"
  },
  {
   "cell_type": "code",
   "execution_count": 2,
   "outputs": [],
   "source": [
    "url = 'https://ai.stanford.edu/~amaas/data/sentiment/aclImdb_v1.tar.gz'\n",
    "\n",
    "dataset = tf.keras.utils.get_file('aclImdb_v1', url, untar=True, cache_dir='.', cache_subdir='')\n",
    "\n",
    "dataset_dir = os.path.join(os.path.dirname(dataset), 'aclImdb')"
   ],
   "metadata": {
    "collapsed": false,
    "ExecuteTime": {
     "end_time": "2023-09-20T17:55:48.054701700Z",
     "start_time": "2023-09-20T17:47:04.143247700Z"
    }
   },
   "id": "76d105f6900584b7"
  },
  {
   "cell_type": "code",
   "execution_count": 3,
   "outputs": [
    {
     "data": {
      "text/plain": "['imdb.vocab', 'imdbEr.txt', 'README', 'test', 'train']"
     },
     "execution_count": 3,
     "metadata": {},
     "output_type": "execute_result"
    }
   ],
   "source": [
    "os.listdir(dataset_dir) "
   ],
   "metadata": {
    "collapsed": false,
    "ExecuteTime": {
     "end_time": "2023-09-20T17:55:48.085611200Z",
     "start_time": "2023-09-20T17:55:48.064716200Z"
    }
   },
   "id": "99f82dca80bae427"
  },
  {
   "cell_type": "code",
   "execution_count": 4,
   "outputs": [
    {
     "data": {
      "text/plain": "'.\\\\aclImdb\\\\train'"
     },
     "execution_count": 4,
     "metadata": {},
     "output_type": "execute_result"
    }
   ],
   "source": [
    "train_dir = os.path.join(dataset_dir, 'train')\n",
    "train_dir"
   ],
   "metadata": {
    "collapsed": false,
    "ExecuteTime": {
     "end_time": "2023-09-20T17:55:48.165664500Z",
     "start_time": "2023-09-20T17:55:48.094673700Z"
    }
   },
   "id": "bc38664c29bde4b4"
  },
  {
   "cell_type": "code",
   "execution_count": 5,
   "outputs": [
    {
     "data": {
      "text/plain": "['labeledBow.feat',\n 'neg',\n 'pos',\n 'unsup',\n 'unsupBow.feat',\n 'urls_neg.txt',\n 'urls_pos.txt',\n 'urls_unsup.txt']"
     },
     "execution_count": 5,
     "metadata": {},
     "output_type": "execute_result"
    }
   ],
   "source": [
    "os.listdir(train_dir)"
   ],
   "metadata": {
    "collapsed": false,
    "ExecuteTime": {
     "end_time": "2023-09-20T17:55:48.165664500Z",
     "start_time": "2023-09-20T17:55:48.124837100Z"
    }
   },
   "id": "d339a2264f1a59c2"
  },
  {
   "cell_type": "code",
   "execution_count": 6,
   "outputs": [
    {
     "name": "stdout",
     "output_type": "stream",
     "text": [
      "Rachel Griffiths writes and directs this award winning short film. A heartwarming story about coping with grief and cherishing the memory of those we've loved and lost. Although, only 15 minutes long, Griffiths manages to capture so much emotion and truth onto film in the short space of time. Bud Tingwell gives a touching performance as Will, a widower struggling to cope with his wife's death. Will is confronted by the harsh reality of loneliness and helplessness as he proceeds to take care of Ruth's pet cow, Tulip. The film displays the grief and responsibility one feels for those they have loved and lost. Good cinematography, great direction, and superbly acted. It will bring tears to all those who have lost a loved one, and survived.\n"
     ]
    }
   ],
   "source": [
    "sample_file = os.path.join(train_dir, 'pos/1181_9.txt')\n",
    "with open(sample_file) as f:\n",
    "    print(f.read())"
   ],
   "metadata": {
    "collapsed": false,
    "ExecuteTime": {
     "end_time": "2023-09-20T17:55:48.185648300Z",
     "start_time": "2023-09-20T17:55:48.143944500Z"
    }
   },
   "id": "eebc0a37feb446ca"
  },
  {
   "cell_type": "markdown",
   "source": [],
   "metadata": {
    "collapsed": false
   },
   "id": "c5672bd8bd9d54d8"
  },
  {
   "cell_type": "markdown",
   "source": [
    "To load the data off disk and prepare it into a format suitable for training, we use the \"text_dataset_from_directory\"\n",
    "utility, which expects a directory structure as follows:\n",
    "\n",
    "```main_directory/```\n",
    "```...class_a/```\n",
    "```......a_text_1.txt```\n",
    "```......a_text_2.txt```\n",
    "```...class_b/```\n",
    "```......b_text_1.txt```\n",
    "```......b_text_2.txt```\n",
    "\n",
    "So we need two folders on disk, corresponding to class_a and class_b. These will be the positive and negative movie reviews,\n",
    "```aclImdb/train/pos``` and ```aclImdb/train/neg```, respectively."
   ],
   "metadata": {
    "collapsed": false
   },
   "id": "63d8de8b6daccb1d"
  },
  {
   "cell_type": "code",
   "execution_count": 7,
   "outputs": [],
   "source": [
    "# Removing the additional folders from the dataset.\n",
    "remove_dir = os.path.join(train_dir, 'unsup')\n",
    "shutil.rmtree(remove_dir)"
   ],
   "metadata": {
    "collapsed": false,
    "ExecuteTime": {
     "end_time": "2023-09-20T17:56:19.664713900Z",
     "start_time": "2023-09-20T17:55:48.186721500Z"
    }
   },
   "id": "c3e86801297138b4"
  },
  {
   "cell_type": "code",
   "execution_count": 8,
   "outputs": [
    {
     "name": "stdout",
     "output_type": "stream",
     "text": [
      "Found 25000 files belonging to 2 classes.\n",
      "Using 20000 files for training.\n"
     ]
    }
   ],
   "source": [
    "# Creating a validation set using an 80:20 split of the training data by using the \"validation_split\" argument.\n",
    "batch_size = 32\n",
    "seed = 42\n",
    "\n",
    "raw_train_ds = tf.keras.utils.text_dataset_from_directory(\n",
    "    'aclImdb/train',\n",
    "    batch_size=batch_size,\n",
    "    validation_split=0.2,\n",
    "    subset='training',\n",
    "    seed=seed\n",
    ")"
   ],
   "metadata": {
    "collapsed": false,
    "ExecuteTime": {
     "end_time": "2023-09-20T17:56:22.585782300Z",
     "start_time": "2023-09-20T17:56:19.673940900Z"
    }
   },
   "id": "600dac57b50b4503"
  },
  {
   "cell_type": "code",
   "execution_count": 9,
   "outputs": [
    {
     "name": "stdout",
     "output_type": "stream",
     "text": [
      "Review b'\"Pandemonium\" is a horror movie spoof that comes off more stupid than funny. Believe me when I tell you, I love comedies. Especially comedy spoofs. \"Airplane\", \"The Naked Gun\" trilogy, \"Blazing Saddles\", \"High Anxiety\", and \"Spaceballs\" are some of my favorite comedies that spoof a particular genre. \"Pandemonium\" is not up there with those films. Most of the scenes in this movie had me sitting there in stunned silence because the movie wasn\\'t all that funny. There are a few laughs in the film, but when you watch a comedy, you expect to laugh a lot more than a few times and that\\'s all this film has going for it. Geez, \"Scream\" had more laughs than this film and that was more of a horror film. How bizarre is that?<br /><br />*1/2 (out of four)'\n",
      "Label 0\n",
      "Review b\"David Mamet is a very interesting and a very un-equal director. His first movie 'House of Games' was the one I liked best, and it set a series of films with characters whose perspective of life changes as they get into complicated situations, and so does the perspective of the viewer.<br /><br />So is 'Homicide' which from the title tries to set the mind of the viewer to the usual crime drama. The principal characters are two cops, one Jewish and one Irish who deal with a racially charged area. The murder of an old Jewish shop owner who proves to be an ancient veteran of the Israeli Independence war triggers the Jewish identity in the mind and heart of the Jewish detective.<br /><br />This is were the flaws of the film are the more obvious. The process of awakening is theatrical and hard to believe, the group of Jewish militants is operatic, and the way the detective eventually walks to the final violent confrontation is pathetic. The end of the film itself is Mamet-like smart, but disappoints from a human emotional perspective.<br /><br />Joe Mantegna and William Macy give strong performances, but the flaws of the story are too evident to be easily compensated.\"\n",
      "Label 0\n",
      "Review b'Great documentary about the lives of NY firefighters during the worst terrorist attack of all time.. That reason alone is why this should be a must see collectors item.. What shocked me was not only the attacks, but the\"High Fat Diet\" and physical appearance of some of these firefighters. I think a lot of Doctors would agree with me that,in the physical shape they were in, some of these firefighters would NOT of made it to the 79th floor carrying over 60 lbs of gear. Having said that i now have a greater respect for firefighters and i realize becoming a firefighter is a life altering job. The French have a history of making great documentary\\'s and that is what this is, a Great Documentary.....'\n",
      "Label 1\n"
     ]
    }
   ],
   "source": [
    "# Iterating over the dataset and printing out a few examples.\n",
    "for text_batch, label_batch in raw_train_ds.take(1):\n",
    "    for i in range(3):\n",
    "        print(\"Review\", text_batch.numpy()[i])\n",
    "        print(\"Label\", label_batch.numpy()[i])"
   ],
   "metadata": {
    "collapsed": false,
    "ExecuteTime": {
     "end_time": "2023-09-20T17:56:22.974831300Z",
     "start_time": "2023-09-20T17:56:22.593791200Z"
    }
   },
   "id": "adb00851707a4df6"
  },
  {
   "cell_type": "code",
   "execution_count": 10,
   "outputs": [
    {
     "data": {
      "text/plain": "'neg'"
     },
     "execution_count": 10,
     "metadata": {},
     "output_type": "execute_result"
    }
   ],
   "source": [
    "raw_train_ds.class_names[0]"
   ],
   "metadata": {
    "collapsed": false,
    "ExecuteTime": {
     "end_time": "2023-09-20T17:56:23.046426100Z",
     "start_time": "2023-09-20T17:56:22.994594800Z"
    }
   },
   "id": "cfa0ae704f2bda26"
  },
  {
   "cell_type": "code",
   "execution_count": 11,
   "outputs": [
    {
     "data": {
      "text/plain": "'pos'"
     },
     "execution_count": 11,
     "metadata": {},
     "output_type": "execute_result"
    }
   ],
   "source": [
    "raw_train_ds.class_names[1]"
   ],
   "metadata": {
    "collapsed": false,
    "ExecuteTime": {
     "end_time": "2023-09-20T17:56:23.066187500Z",
     "start_time": "2023-09-20T17:56:23.022793900Z"
    }
   },
   "id": "b60d589d2a8b8d0c"
  },
  {
   "cell_type": "code",
   "execution_count": 12,
   "outputs": [
    {
     "name": "stdout",
     "output_type": "stream",
     "text": [
      "Found 25000 files belonging to 2 classes.\n",
      "Using 5000 files for validation.\n"
     ]
    }
   ],
   "source": [
    "raw_val_ds = tf.keras.utils.text_dataset_from_directory(\n",
    "    'aclImdb/train',\n",
    "    batch_size=batch_size,\n",
    "    validation_split=0.2,\n",
    "    subset='validation',\n",
    "    seed=seed\n",
    ")"
   ],
   "metadata": {
    "collapsed": false,
    "ExecuteTime": {
     "end_time": "2023-09-20T17:56:25.573730700Z",
     "start_time": "2023-09-20T17:56:23.034431900Z"
    }
   },
   "id": "696cd7e5132c8d66"
  },
  {
   "cell_type": "code",
   "execution_count": 13,
   "outputs": [
    {
     "name": "stdout",
     "output_type": "stream",
     "text": [
      "Found 25000 files belonging to 2 classes.\n"
     ]
    }
   ],
   "source": [
    "raw_test_ds = tf.keras.utils.text_dataset_from_directory(\n",
    "    'aclImdb/test',\n",
    "    batch_size=batch_size\n",
    ")"
   ],
   "metadata": {
    "collapsed": false,
    "ExecuteTime": {
     "end_time": "2023-09-20T17:56:28.193807500Z",
     "start_time": "2023-09-20T17:56:25.574745400Z"
    }
   },
   "id": "95be4bd23001fc90"
  },
  {
   "cell_type": "code",
   "execution_count": 14,
   "outputs": [],
   "source": [
    "# Writing a custom standardization function to remove the HTML tags.\n",
    "def custom_standardization(input_data):\n",
    "    lowercase = tf.strings.lower(input_data)\n",
    "    stripped_html = tf.strings.regex_replace(lowercase, '<br />', \n",
    "                                             ' ')\n",
    "    return tf.strings.regex_replace(stripped_html, \n",
    "                                    '[%s]' % re.escape(string.punctuation),\n",
    "                                    '')"
   ],
   "metadata": {
    "collapsed": false,
    "ExecuteTime": {
     "end_time": "2023-09-20T17:56:28.214512900Z",
     "start_time": "2023-09-20T17:56:28.194822900Z"
    }
   },
   "id": "a1382e44d44321bf"
  },
  {
   "cell_type": "code",
   "execution_count": 15,
   "outputs": [],
   "source": [
    "max_features = 10000\n",
    "sequence_length = 250\n",
    "\n",
    "# Creating a \"TextVectorization\" layer to standardize, tokenize, and vectorize the data.\n",
    "# Setting the \"output_mode\" to \"int\" to create unique integer indices for each token.\n",
    "vectorize_layer = layers.TextVectorization(\n",
    "    standardize=custom_standardization,\n",
    "    max_tokens=max_features,\n",
    "    output_mode='int',\n",
    "    output_sequence_length=sequence_length\n",
    ")"
   ],
   "metadata": {
    "collapsed": false,
    "ExecuteTime": {
     "end_time": "2023-09-20T17:56:28.284813500Z",
     "start_time": "2023-09-20T17:56:28.224002200Z"
    }
   },
   "id": "600edcf13fb856b2"
  },
  {
   "cell_type": "code",
   "execution_count": 16,
   "outputs": [],
   "source": [
    "# Calling the \"adapt\" function to fit the state of the preprocessing layer to the dataset,\n",
    "# causing the model to build an index of strings to integers.\n",
    "\n",
    "# Make a text-only dataset (without labels), then call adapt\n",
    "train_text = raw_train_ds.map(lambda x, y: x)\n",
    "vectorize_layer.adapt(train_text)"
   ],
   "metadata": {
    "collapsed": false,
    "ExecuteTime": {
     "end_time": "2023-09-20T17:56:43.724533400Z",
     "start_time": "2023-09-20T17:56:28.293880600Z"
    }
   },
   "id": "a6bbc291ae311939"
  },
  {
   "cell_type": "code",
   "execution_count": 17,
   "outputs": [],
   "source": [
    "# Creating a function to see the result of using this layer to preprocess some data.\n",
    "def vectorize_text(text, label): \n",
    "    text = tf.expand_dims(text, -1)\n",
    "    return vectorize_layer(text), label "
   ],
   "metadata": {
    "collapsed": false,
    "ExecuteTime": {
     "end_time": "2023-09-20T17:56:43.744614800Z",
     "start_time": "2023-09-20T17:56:43.724533400Z"
    }
   },
   "id": "6f770b74e00931f1"
  },
  {
   "cell_type": "code",
   "execution_count": 18,
   "outputs": [
    {
     "name": "stdout",
     "output_type": "stream",
     "text": [
      "Review:  tf.Tensor(b'Great movie - especially the music - Etta James - \"At Last\". This speaks volumes when you have finally found that special someone.', shape=(), dtype=string)\n",
      "Label:  neg\n",
      "Vectorized review:  (<tf.Tensor: shape=(1, 250), dtype=int64, numpy=\n",
      "array([[  86,   17,  260,    2,  222,    1,  571,   31,  229,   11, 2418,\n",
      "           1,   51,   22,   25,  404,  251,   12,  306,  282,    0,    0,\n",
      "           0,    0,    0,    0,    0,    0,    0,    0,    0,    0,    0,\n",
      "           0,    0,    0,    0,    0,    0,    0,    0,    0,    0,    0,\n",
      "           0,    0,    0,    0,    0,    0,    0,    0,    0,    0,    0,\n",
      "           0,    0,    0,    0,    0,    0,    0,    0,    0,    0,    0,\n",
      "           0,    0,    0,    0,    0,    0,    0,    0,    0,    0,    0,\n",
      "           0,    0,    0,    0,    0,    0,    0,    0,    0,    0,    0,\n",
      "           0,    0,    0,    0,    0,    0,    0,    0,    0,    0,    0,\n",
      "           0,    0,    0,    0,    0,    0,    0,    0,    0,    0,    0,\n",
      "           0,    0,    0,    0,    0,    0,    0,    0,    0,    0,    0,\n",
      "           0,    0,    0,    0,    0,    0,    0,    0,    0,    0,    0,\n",
      "           0,    0,    0,    0,    0,    0,    0,    0,    0,    0,    0,\n",
      "           0,    0,    0,    0,    0,    0,    0,    0,    0,    0,    0,\n",
      "           0,    0,    0,    0,    0,    0,    0,    0,    0,    0,    0,\n",
      "           0,    0,    0,    0,    0,    0,    0,    0,    0,    0,    0,\n",
      "           0,    0,    0,    0,    0,    0,    0,    0,    0,    0,    0,\n",
      "           0,    0,    0,    0,    0,    0,    0,    0,    0,    0,    0,\n",
      "           0,    0,    0,    0,    0,    0,    0,    0,    0,    0,    0,\n",
      "           0,    0,    0,    0,    0,    0,    0,    0,    0,    0,    0,\n",
      "           0,    0,    0,    0,    0,    0,    0,    0,    0,    0,    0,\n",
      "           0,    0,    0,    0,    0,    0,    0,    0,    0,    0,    0,\n",
      "           0,    0,    0,    0,    0,    0,    0,    0]], dtype=int64)>, <tf.Tensor: shape=(), dtype=int32, numpy=0>)\n"
     ]
    }
   ],
   "source": [
    "# Retrieve a batch (of 32 reviews and labels) from the dataset.\n",
    "text_batch, label_batch = next(iter(raw_train_ds))\n",
    "first_review, first_label = text_batch[0], label_batch[0]\n",
    "print(\"Review: \", first_review)\n",
    "print(\"Label: \", raw_train_ds.class_names[first_label])\n",
    "print(\"Vectorized review: \", vectorize_text(first_review, first_label))"
   ],
   "metadata": {
    "collapsed": false,
    "ExecuteTime": {
     "end_time": "2023-09-20T17:56:44.075944500Z",
     "start_time": "2023-09-20T17:56:43.756192400Z"
    }
   },
   "id": "8f79639914e54b2c"
  },
  {
   "cell_type": "markdown",
   "source": [
    "Each token has been replaced by an integer."
   ],
   "metadata": {
    "collapsed": false
   },
   "id": "e1f02c4a7355abf3"
  },
  {
   "cell_type": "code",
   "execution_count": 19,
   "outputs": [
    {
     "name": "stdout",
     "output_type": "stream",
     "text": [
      "86 =>  great\n",
      "282 =>  someone\n",
      "1287 =>  silent\n",
      "313 =>  night\n",
      "Vocabulary size: 10000\n"
     ]
    }
   ],
   "source": [
    "# Looking up some tokens (strings) using sample integers that correspond to them, by calling the \".get_vocabulary()\" function on the layer.\n",
    "print(\"86 => \", vectorize_layer.get_vocabulary()[86])\n",
    "print(\"282 => \", vectorize_layer.get_vocabulary()[282])\n",
    "print(\"1287 => \", vectorize_layer.get_vocabulary()[1287])\n",
    "print(\"313 => \", vectorize_layer.get_vocabulary()[313])\n",
    "print(\"Vocabulary size: {}\".format(len(vectorize_layer.get_vocabulary())))"
   ],
   "metadata": {
    "collapsed": false,
    "ExecuteTime": {
     "end_time": "2023-09-20T17:56:44.284700800Z",
     "start_time": "2023-09-20T17:56:44.092597700Z"
    }
   },
   "id": "74ac7671cc062125"
  },
  {
   "cell_type": "code",
   "execution_count": 20,
   "outputs": [],
   "source": [
    "# Final preprocessing step:\n",
    "# Applying the \"TextVectorization\" layer we created earlier to the train, validation, and test datasets.\n",
    "train_ds = raw_train_ds.map(vectorize_text)\n",
    "val_ds = raw_val_ds.map(vectorize_text)\n",
    "test_ds = raw_test_ds.map(vectorize_text)"
   ],
   "metadata": {
    "collapsed": false,
    "ExecuteTime": {
     "end_time": "2023-09-20T17:56:44.434874100Z",
     "start_time": "2023-09-20T17:56:44.253883900Z"
    }
   },
   "id": "ee3d6f6b47074ab8"
  },
  {
   "cell_type": "markdown",
   "source": [
    "### Configuring the dataset for Performance"
   ],
   "metadata": {
    "collapsed": false
   },
   "id": "29c692994c4b5672"
  },
  {
   "cell_type": "code",
   "execution_count": 21,
   "outputs": [],
   "source": [
    "# Using the \"prefetch()\" methods to overlap data preprocessing and model execution while training.\n",
    "AUTOTUNE = tf.data.AUTOTUNE\n",
    "\n",
    "train_ds = train_ds.cache().prefetch(buffer_size=AUTOTUNE)\n",
    "val_ds = val_ds.cache().prefetch(buffer_size=AUTOTUNE)\n",
    "test_ds = test_ds.cache().prefetch(buffer_size=AUTOTUNE)"
   ],
   "metadata": {
    "collapsed": false,
    "ExecuteTime": {
     "end_time": "2023-09-20T17:56:44.488632300Z",
     "start_time": "2023-09-20T17:56:44.443980Z"
    }
   },
   "id": "12e22934e831b944"
  },
  {
   "cell_type": "markdown",
   "source": [
    "### Creating the model"
   ],
   "metadata": {
    "collapsed": false
   },
   "id": "8d8215d3e32aed59"
  },
  {
   "cell_type": "code",
   "execution_count": 22,
   "outputs": [
    {
     "name": "stdout",
     "output_type": "stream",
     "text": [
      "Model: \"sequential\"\n",
      "_________________________________________________________________\n",
      " Layer (type)                Output Shape              Param #   \n",
      "=================================================================\n",
      " embedding (Embedding)       (None, None, 16)          160016    \n",
      "                                                                 \n",
      " dropout (Dropout)           (None, None, 16)          0         \n",
      "                                                                 \n",
      " global_average_pooling1d (  (None, 16)                0         \n",
      " GlobalAveragePooling1D)                                         \n",
      "                                                                 \n",
      " dropout_1 (Dropout)         (None, 16)                0         \n",
      "                                                                 \n",
      " dense (Dense)               (None, 1)                 17        \n",
      "                                                                 \n",
      "=================================================================\n",
      "Total params: 160033 (625.13 KB)\n",
      "Trainable params: 160033 (625.13 KB)\n",
      "Non-trainable params: 0 (0.00 Byte)\n",
      "_________________________________________________________________\n"
     ]
    }
   ],
   "source": [
    "embedding_dim = 16\n",
    "\n",
    "model = tf.keras.Sequential([\n",
    "    # Embedding layer: takes the integer-encoded reviews and looks up an embedding vector for each work-index.\n",
    "    # These vectors are learned as the model trains. The vectors add a dimension to the output array.\n",
    "    layers.Embedding(max_features + 1, embedding_dim),\n",
    "    layers.Dropout(0.2),\n",
    "    # GlobalAveragePooling1D layer: returns a fixed-length output vector for each example by averaging over the sequence dimension.\n",
    "    # This allows the model to handle input of variable length, in the simplest way possible.\n",
    "    layers.GlobalAveragePooling1D(),\n",
    "    layers.Dropout(0.2),\n",
    "    # Dense layer: is densely connected with a single output node.\n",
    "    layers.Dense(1)\n",
    "])\n",
    "\n",
    "model.summary()"
   ],
   "metadata": {
    "collapsed": false,
    "ExecuteTime": {
     "end_time": "2023-09-20T17:56:44.646260Z",
     "start_time": "2023-09-20T17:56:44.494783900Z"
    }
   },
   "id": "20141ef2fb58de1b"
  },
  {
   "cell_type": "markdown",
   "source": [
    "### Loss function and optimizer"
   ],
   "metadata": {
    "collapsed": false
   },
   "id": "b0bd2769ce2bd6f2"
  },
  {
   "cell_type": "code",
   "execution_count": 23,
   "outputs": [],
   "source": [
    "# Choosing the \"BinaryCrossentropy\" as the loss function for this binary classification problem.\n",
    "model.compile(loss=losses.BinaryCrossentropy(from_logits=True),\n",
    "              optimizer='adam',\n",
    "              metrics=tf.metrics.BinaryAccuracy(threshold=0.0))"
   ],
   "metadata": {
    "collapsed": false,
    "ExecuteTime": {
     "end_time": "2023-09-20T17:56:44.663884100Z",
     "start_time": "2023-09-20T17:56:44.613892900Z"
    }
   },
   "id": "82ca936fc6e07ec9"
  },
  {
   "cell_type": "markdown",
   "source": [
    "### Training the model"
   ],
   "metadata": {
    "collapsed": false
   },
   "id": "42fed3afd76486b3"
  },
  {
   "cell_type": "code",
   "execution_count": 24,
   "outputs": [
    {
     "name": "stdout",
     "output_type": "stream",
     "text": [
      "Epoch 1/10\n",
      "625/625 [==============================] - 22s 35ms/step - loss: 0.6632 - binary_accuracy: 0.6967 - val_loss: 0.6134 - val_binary_accuracy: 0.7720\n",
      "Epoch 2/10\n",
      "625/625 [==============================] - 3s 5ms/step - loss: 0.5472 - binary_accuracy: 0.8004 - val_loss: 0.4968 - val_binary_accuracy: 0.8234\n",
      "Epoch 3/10\n",
      "625/625 [==============================] - 3s 5ms/step - loss: 0.4430 - binary_accuracy: 0.8451 - val_loss: 0.4190 - val_binary_accuracy: 0.8478\n",
      "Epoch 4/10\n",
      "625/625 [==============================] - 3s 4ms/step - loss: 0.3770 - binary_accuracy: 0.8650 - val_loss: 0.3728 - val_binary_accuracy: 0.8610\n",
      "Epoch 5/10\n",
      "625/625 [==============================] - 2s 4ms/step - loss: 0.3343 - binary_accuracy: 0.8787 - val_loss: 0.3443 - val_binary_accuracy: 0.8678\n",
      "Epoch 6/10\n",
      "625/625 [==============================] - 2s 4ms/step - loss: 0.3040 - binary_accuracy: 0.8903 - val_loss: 0.3255 - val_binary_accuracy: 0.8714\n",
      "Epoch 7/10\n",
      "625/625 [==============================] - 2s 4ms/step - loss: 0.2810 - binary_accuracy: 0.8974 - val_loss: 0.3122 - val_binary_accuracy: 0.8734\n",
      "Epoch 8/10\n",
      "625/625 [==============================] - 3s 5ms/step - loss: 0.2623 - binary_accuracy: 0.9050 - val_loss: 0.3028 - val_binary_accuracy: 0.8766\n",
      "Epoch 9/10\n",
      "625/625 [==============================] - 3s 5ms/step - loss: 0.2458 - binary_accuracy: 0.9113 - val_loss: 0.2962 - val_binary_accuracy: 0.8772\n",
      "Epoch 10/10\n",
      "625/625 [==============================] - 3s 5ms/step - loss: 0.2310 - binary_accuracy: 0.9162 - val_loss: 0.2915 - val_binary_accuracy: 0.8778\n"
     ]
    }
   ],
   "source": [
    "epochs = 10\n",
    "\n",
    "history = model.fit(\n",
    "    train_ds,\n",
    "    validation_data=val_ds,\n",
    "    epochs=epochs\n",
    ")"
   ],
   "metadata": {
    "collapsed": false,
    "ExecuteTime": {
     "end_time": "2023-09-20T17:57:32.246037400Z",
     "start_time": "2023-09-20T17:56:44.665840Z"
    }
   },
   "id": "79c12db8245ee269"
  },
  {
   "cell_type": "markdown",
   "source": [
    "### Evaluating the model"
   ],
   "metadata": {
    "collapsed": false
   },
   "id": "8d0ab7572e62abc3"
  },
  {
   "cell_type": "code",
   "execution_count": 25,
   "outputs": [
    {
     "name": "stdout",
     "output_type": "stream",
     "text": [
      "782/782 [==============================] - 14s 18ms/step - loss: 0.3100 - binary_accuracy: 0.8737\n",
      "Loss =  0.309998482465744\n",
      "Accuracy =  0.8737199902534485\n"
     ]
    }
   ],
   "source": [
    "loss, accuracy = model.evaluate(test_ds)\n",
    "\n",
    "print(\"Loss = \", loss)\n",
    "print(\"Accuracy = \", accuracy)"
   ],
   "metadata": {
    "collapsed": false,
    "ExecuteTime": {
     "end_time": "2023-09-20T18:08:36.636262Z",
     "start_time": "2023-09-20T18:08:22.539866400Z"
    }
   },
   "id": "b5c45a8e9402dd55"
  },
  {
   "cell_type": "code",
   "execution_count": 27,
   "outputs": [
    {
     "data": {
      "text/plain": "{'loss': [0.6631720066070557,\n  0.5471991300582886,\n  0.44300416111946106,\n  0.3769572377204895,\n  0.3342525064945221,\n  0.3040425479412079,\n  0.28099316358566284,\n  0.2622872292995453,\n  0.2457743138074875,\n  0.23100411891937256],\n 'binary_accuracy': [0.6966999769210815,\n  0.8004000186920166,\n  0.8451499938964844,\n  0.8650000095367432,\n  0.8787000179290771,\n  0.8903499841690063,\n  0.897350013256073,\n  0.9049999713897705,\n  0.911300003528595,\n  0.9162499904632568],\n 'val_loss': [0.6134254932403564,\n  0.4968482553958893,\n  0.41900137066841125,\n  0.3728153705596924,\n  0.34426605701446533,\n  0.32551485300064087,\n  0.312190979719162,\n  0.3028401732444763,\n  0.29623550176620483,\n  0.2915304899215698],\n 'val_binary_accuracy': [0.7720000147819519,\n  0.8234000205993652,\n  0.8478000164031982,\n  0.8610000014305115,\n  0.8677999973297119,\n  0.871399998664856,\n  0.8733999729156494,\n  0.8766000270843506,\n  0.8772000074386597,\n  0.8777999877929688]}"
     },
     "execution_count": 27,
     "metadata": {},
     "output_type": "execute_result"
    }
   ],
   "source": [
    "history.history"
   ],
   "metadata": {
    "collapsed": false,
    "ExecuteTime": {
     "end_time": "2023-09-20T18:09:42.915293900Z",
     "start_time": "2023-09-20T18:09:42.895376600Z"
    }
   },
   "id": "1b547987ac820455"
  },
  {
   "cell_type": "code",
   "execution_count": 28,
   "outputs": [
    {
     "data": {
      "text/plain": "dict_keys(['loss', 'binary_accuracy', 'val_loss', 'val_binary_accuracy'])"
     },
     "execution_count": 28,
     "metadata": {},
     "output_type": "execute_result"
    }
   ],
   "source": [
    "history.history.keys()"
   ],
   "metadata": {
    "collapsed": false,
    "ExecuteTime": {
     "end_time": "2023-09-20T18:10:01.764749600Z",
     "start_time": "2023-09-20T18:10:01.685279900Z"
    }
   },
   "id": "cc96659067f62b74"
  },
  {
   "cell_type": "code",
   "execution_count": 29,
   "outputs": [
    {
     "data": {
      "text/plain": "<Figure size 640x480 with 1 Axes>",
      "image/png": "[encoded data removed]"
     },
     "metadata": {},
     "output_type": "display_data"
    }
   ],
   "source": [
    "history_dict = history.history\n",
    "\n",
    "acc = history_dict['binary_accuracy']\n",
    "val_acc = history_dict['val_binary_accuracy']\n",
    "loss = history_dict['loss']\n",
    "val_loss = history_dict['val_loss']\n",
    "\n",
    "x_axis = range(1, len(acc) + 1) # Number of epochs for x_axis.\n",
    "\n",
    "plt.plot(x_axis, loss, 'bo', label='Training loss')\n",
    "plt.plot(x_axis, val_loss, 'b', label='Validation loss')\n",
    "\n",
    "plt.title('Training and validation loss')\n",
    "plt.xlabel('Epochs')\n",
    "plt.ylabel('Loss')\n",
    "plt.legend()\n",
    "\n",
    "plt.show()"
   ],
   "metadata": {
    "collapsed": false,
    "ExecuteTime": {
     "end_time": "2023-09-20T18:17:00.936742500Z",
     "start_time": "2023-09-20T18:17:00.235878700Z"
    }
   },
   "id": "d3b18b83093266fe"
  },
  {
   "cell_type": "code",
   "execution_count": 30,
   "outputs": [
    {
     "data": {
      "text/plain": "<Figure size 640x480 with 1 Axes>",
      "image/png": "[encoded data removed]"
     },
     "metadata": {},
     "output_type": "display_data"
    }
   ],
   "source": [
    "plt.plot(x_axis, acc, 'bo', label='Training accuracy')\n",
    "plt.plot(x_axis, val_acc, 'b', label='Validation accuracy')\n",
    "\n",
    "plt.title('Training and validation accuracy')\n",
    "plt.xlabel('Epochs')\n",
    "plt.ylabel('Accuracy')\n",
    "plt.legend(loc='lower right')\n",
    "\n",
    "plt.show()"
   ],
   "metadata": {
    "collapsed": false,
    "ExecuteTime": {
     "end_time": "2023-09-20T19:25:31.484471100Z",
     "start_time": "2023-09-20T19:25:31.335960700Z"
    }
   },
   "id": "e59c0be0e059890b"
  },
  {
   "cell_type": "markdown",
   "source": [
    "### Exporting the model"
   ],
   "metadata": {
    "collapsed": false
   },
   "id": "4a451e9e2e852552"
  },
  {
   "cell_type": "code",
   "execution_count": 31,
   "outputs": [
    {
     "name": "stdout",
     "output_type": "stream",
     "text": [
      "782/782 [==============================] - 17s 22ms/step - loss: 0.3100 - accuracy: 0.8737\n"
     ]
    },
    {
     "data": {
      "text/plain": "0.8737199902534485"
     },
     "execution_count": 31,
     "metadata": {},
     "output_type": "execute_result"
    }
   ],
   "source": [
    "export_model = tf.keras.Sequential([\n",
    "    vectorize_layer,\n",
    "    model,\n",
    "    layers.Activation('sigmoid')\n",
    "])\n",
    "\n",
    "export_model.compile(\n",
    "    loss=losses.BinaryCrossentropy(from_logits=False),\n",
    "    optimizer='adam',\n",
    "    metrics=['accuracy']\n",
    ")\n",
    "\n",
    "# Testing the model with \"raw_test_ds\", which yields raw strings.\n",
    "loss, accuracy = export_model.evaluate(raw_test_ds)\n",
    "accuracy"
   ],
   "metadata": {
    "collapsed": false,
    "ExecuteTime": {
     "end_time": "2023-09-20T20:22:08.486631900Z",
     "start_time": "2023-09-20T20:21:50.633342500Z"
    }
   },
   "id": "4682b44f06bcb44c"
  },
  {
   "cell_type": "code",
   "execution_count": null,
   "outputs": [],
   "source": [],
   "metadata": {
    "collapsed": false
   },
   "id": "15658e5ad7990417"
  }
 ],
 "metadata": {
  "kernelspec": {
   "display_name": "Python 3",
   "language": "python",
   "name": "python3"
  },
  "language_info": {
   "codemirror_mode": {
    "name": "ipython",
    "version": 2
   },
   "file_extension": ".py",
   "mimetype": "text/x-python",
   "name": "python",
   "nbconvert_exporter": "python",
   "pygments_lexer": "ipython2",
   "version": "2.7.6"
  }
 },
 "nbformat": 4,
 "nbformat_minor": 5
}
