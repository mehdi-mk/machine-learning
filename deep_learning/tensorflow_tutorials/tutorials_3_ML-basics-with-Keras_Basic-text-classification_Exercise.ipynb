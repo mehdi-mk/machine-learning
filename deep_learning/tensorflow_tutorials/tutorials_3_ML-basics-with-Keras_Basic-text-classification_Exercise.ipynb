{
 "cells": [
  {
   "cell_type": "markdown",
   "source": [
    "# Exercise: multi-class classification on Stack Overflow questions"
   ],
   "metadata": {
    "collapsed": false
   },
   "id": "8d940fa2372f765a"
  },
  {
   "cell_type": "code",
   "execution_count": 1,
   "outputs": [],
   "source": [
    "import matplotlib.pyplot as plt\n",
    "import os\n",
    "import re\n",
    "import shutil\n",
    "import string\n",
    "import tensorflow as tf  \n",
    "from tensorflow.keras import layers\n",
    "from tensorflow.keras import losses"
   ],
   "metadata": {
    "collapsed": false,
    "ExecuteTime": {
     "end_time": "2023-09-22T01:08:04.589215Z",
     "start_time": "2023-09-22T01:07:59.586918Z"
    }
   },
   "id": "8782f05eae5ff245"
  },
  {
   "cell_type": "code",
   "execution_count": 2,
   "outputs": [],
   "source": [
    "url = 'https://storage.googleapis.com/download.tensorflow.org/data/stack_overflow_16k.tar.gz'\n",
    "\n",
    "dataset = tf.keras.utils.get_file('stack_overflow_16k', url, untar=True, cache_dir='.', cache_subdir='')\n",
    "\n",
    "dataset_dir = os.path.join(os.path.dirname(dataset), 'stack_overflow')"
   ],
   "metadata": {
    "collapsed": false,
    "ExecuteTime": {
     "end_time": "2023-09-22T01:08:06.649391Z",
     "start_time": "2023-09-22T01:08:04.590027Z"
    }
   },
   "id": "cd2f8937790c9abe"
  },
  {
   "cell_type": "code",
   "execution_count": 3,
   "outputs": [
    {
     "data": {
      "text/plain": "['test', 'README.md', 'train']"
     },
     "execution_count": 3,
     "metadata": {},
     "output_type": "execute_result"
    }
   ],
   "source": [
    "os.listdir(dataset_dir)"
   ],
   "metadata": {
    "collapsed": false,
    "ExecuteTime": {
     "end_time": "2023-09-22T01:08:06.665586Z",
     "start_time": "2023-09-22T01:08:06.649660Z"
    }
   },
   "id": "165a26aad89b513d"
  },
  {
   "cell_type": "code",
   "execution_count": 4,
   "outputs": [
    {
     "data": {
      "text/plain": "'./stack_overflow/train'"
     },
     "execution_count": 4,
     "metadata": {},
     "output_type": "execute_result"
    }
   ],
   "source": [
    "train_dir = os.path.join(dataset_dir, 'train')\n",
    "train_dir"
   ],
   "metadata": {
    "collapsed": false,
    "ExecuteTime": {
     "end_time": "2023-09-22T01:08:06.665911Z",
     "start_time": "2023-09-22T01:08:06.656067Z"
    }
   },
   "id": "2c0f53c51aca154a"
  },
  {
   "cell_type": "code",
   "execution_count": 5,
   "outputs": [
    {
     "data": {
      "text/plain": "['python', 'java', 'csharp', 'javascript']"
     },
     "execution_count": 5,
     "metadata": {},
     "output_type": "execute_result"
    }
   ],
   "source": [
    "os.listdir(train_dir)"
   ],
   "metadata": {
    "collapsed": false,
    "ExecuteTime": {
     "end_time": "2023-09-22T01:08:06.666123Z",
     "start_time": "2023-09-22T01:08:06.658392Z"
    }
   },
   "id": "e99f9b43afc8dc23"
  },
  {
   "cell_type": "code",
   "execution_count": 6,
   "outputs": [
    {
     "name": "stdout",
     "output_type": "stream",
     "text": [
      "\"float rounding problems in blank amount = 0.002638309660058967.price = 1392.18..lowest_ask = 1391.6..result = price*amount/lowest_ask..print(result)...the above code will print out:..0.002639409271731024...however when i perform the calculation here: http://web2.0calc.com/.it gives me: 0.0026394092717310237698..so obviously blank is rounding up the result of this calculation......my question is, how do you prevent blank from rounding up result? i.e. i want result to be: 0.002639409271731023\"\n"
     ]
    }
   ],
   "source": [
    "sample_file = os.path.join(train_dir, 'python/15.txt')\n",
    "with open(sample_file) as f:\n",
    "    print(f.read())"
   ],
   "metadata": {
    "collapsed": false,
    "ExecuteTime": {
     "end_time": "2023-09-22T01:08:06.666635Z",
     "start_time": "2023-09-22T01:08:06.662143Z"
    }
   },
   "id": "1028447e939c8f81"
  },
  {
   "cell_type": "code",
   "execution_count": 7,
   "outputs": [
    {
     "name": "stdout",
     "output_type": "stream",
     "text": [
      "Found 8000 files belonging to 4 classes.\n",
      "Using 6400 files for training.\n"
     ]
    }
   ],
   "source": [
    "batch_size = 32\n",
    "seed = 42\n",
    "\n",
    "raw_train_ds = tf.keras.utils.text_dataset_from_directory(\n",
    "    'stack_overflow/train',\n",
    "    batch_size=batch_size,\n",
    "    validation_split=0.2,\n",
    "    subset='training',\n",
    "    seed=seed\n",
    ")"
   ],
   "metadata": {
    "collapsed": false,
    "ExecuteTime": {
     "end_time": "2023-09-22T01:08:07.051876Z",
     "start_time": "2023-09-22T01:08:06.664963Z"
    }
   },
   "id": "f8bc072330306c7b"
  },
  {
   "cell_type": "code",
   "execution_count": 8,
   "outputs": [
    {
     "name": "stdout",
     "output_type": "stream",
     "text": [
      "Questions b'\"my tester is going to the wrong constructor i am new to programming so if i ask a question that can be easily fixed, please forgive me. my program has a tester class with a main. when i send that to my regularpolygon class, it sends it to the wrong constructor. i have two constructors. 1 without perameters..public regularpolygon().    {.       mynumsides = 5;.       mysidelength = 30;.    }//end default constructor...and my second, with perameters. ..public regularpolygon(int numsides, double sidelength).    {.        mynumsides = numsides;.        mysidelength = sidelength;.    }// end constructor...in my tester class i have these two lines:..regularpolygon shape = new regularpolygon(numsides, sidelength);.        shape.menu();...numsides and sidelength were declared and initialized earlier in the testing class...so what i want to happen, is the tester class sends numsides and sidelength to the second constructor and use it in that class. but it only uses the default constructor, which therefor ruins the whole rest of the program. can somebody help me?..for those of you who want to see more of my code: here you go..public double vertexangle().    {.        system.out.println(\"\"the vertex angle method: \"\" + mynumsides);// prints out 5.        system.out.println(\"\"the vertex angle method: \"\" + mysidelength); // prints out 30..        double vertexangle;.        vertexangle = ((mynumsides - 2.0) / mynumsides) * 180.0;.        return vertexangle;.    }//end method vertexangle..public void menu().{.    system.out.println(mynumsides); // prints out what the user puts in.    system.out.println(mysidelength); // prints out what the user puts in.    gotographic();.    calcr(mynumsides, mysidelength);.    calcr(mynumsides, mysidelength);.    print(); .}// end menu...this is my entire tester class:..public static void main(string[] arg).{.    int numsides;.    double sidelength;.    scanner keyboard = new scanner(system.in);..    system.out.println(\"\"welcome to the regular polygon program!\"\");.    system.out.println();..    system.out.print(\"\"enter the number of sides of the polygon ==&gt; \"\");.    numsides = keyboard.nextint();.    system.out.println();..    system.out.print(\"\"enter the side length of each side ==&gt; \"\");.    sidelength = keyboard.nextdouble();.    system.out.println();..    regularpolygon shape = new regularpolygon(numsides, sidelength);.    shape.menu();.}//end main...for testing it i sent it numsides 4 and sidelength 100.\"\\n'\n",
      "Label 1\n",
      "Questions b'\"blank code slow skin detection this code changes the color space to lab and using a threshold finds the skin area of an image. but it\\'s ridiculously slow. i don\\'t know how to make it faster ?    ..from colormath.color_objects import *..def skindetection(img, treshold=80, color=[255,20,147]):..    print img.shape.    res=img.copy().    for x in range(img.shape[0]):.        for y in range(img.shape[1]):.            rgbimg=rgbcolor(img[x,y,0],img[x,y,1],img[x,y,2]).            labimg=rgbimg.convert_to(\\'lab\\', debug=false).            if (labimg.lab_l &gt; treshold):.                res[x,y,:]=color.            else: .                res[x,y,:]=img[x,y,:]..    return res\"\\n'\n",
      "Label 3\n"
     ]
    }
   ],
   "source": [
    "for text_batch, label_batch in raw_train_ds.take(1):\n",
    "    for i in range(2):\n",
    "        print(\"Questions\", text_batch.numpy()[i])\n",
    "        print(\"Label\", label_batch.numpy()[i])"
   ],
   "metadata": {
    "collapsed": false,
    "ExecuteTime": {
     "end_time": "2023-09-22T01:08:07.108502Z",
     "start_time": "2023-09-22T01:08:07.052206Z"
    }
   },
   "id": "a051d8592115cd2c"
  },
  {
   "cell_type": "code",
   "execution_count": 9,
   "outputs": [
    {
     "data": {
      "text/plain": "'csharp'"
     },
     "execution_count": 9,
     "metadata": {},
     "output_type": "execute_result"
    }
   ],
   "source": [
    "raw_train_ds.class_names[0]"
   ],
   "metadata": {
    "collapsed": false,
    "ExecuteTime": {
     "end_time": "2023-09-22T01:08:07.117956Z",
     "start_time": "2023-09-22T01:08:07.108746Z"
    }
   },
   "id": "b347129f27a905b7"
  },
  {
   "cell_type": "code",
   "execution_count": 10,
   "outputs": [
    {
     "data": {
      "text/plain": "'java'"
     },
     "execution_count": 10,
     "metadata": {},
     "output_type": "execute_result"
    }
   ],
   "source": [
    "raw_train_ds.class_names[1]"
   ],
   "metadata": {
    "collapsed": false,
    "ExecuteTime": {
     "end_time": "2023-09-22T01:08:07.118381Z",
     "start_time": "2023-09-22T01:08:07.115049Z"
    }
   },
   "id": "a7b94f46892f3e4f"
  },
  {
   "cell_type": "code",
   "execution_count": 11,
   "outputs": [
    {
     "data": {
      "text/plain": "'javascript'"
     },
     "execution_count": 11,
     "metadata": {},
     "output_type": "execute_result"
    }
   ],
   "source": [
    "raw_train_ds.class_names[2]"
   ],
   "metadata": {
    "collapsed": false,
    "ExecuteTime": {
     "end_time": "2023-09-22T01:08:07.123362Z",
     "start_time": "2023-09-22T01:08:07.118106Z"
    }
   },
   "id": "656b19e6166824dd"
  },
  {
   "cell_type": "code",
   "execution_count": 12,
   "outputs": [
    {
     "data": {
      "text/plain": "'python'"
     },
     "execution_count": 12,
     "metadata": {},
     "output_type": "execute_result"
    }
   ],
   "source": [
    "raw_train_ds.class_names[3]"
   ],
   "metadata": {
    "collapsed": false,
    "ExecuteTime": {
     "end_time": "2023-09-22T01:08:07.126909Z",
     "start_time": "2023-09-22T01:08:07.121535Z"
    }
   },
   "id": "1b3f195755097e7f"
  },
  {
   "cell_type": "code",
   "execution_count": 13,
   "outputs": [
    {
     "name": "stdout",
     "output_type": "stream",
     "text": [
      "Found 8000 files belonging to 4 classes.\n",
      "Using 1600 files for validation.\n"
     ]
    }
   ],
   "source": [
    "raw_val_ds = tf.keras.utils.text_dataset_from_directory(\n",
    "    'stack_overflow/train',\n",
    "    batch_size=batch_size,\n",
    "    validation_split=0.2,\n",
    "    subset='validation',\n",
    "    seed=seed\n",
    ")"
   ],
   "metadata": {
    "collapsed": false,
    "ExecuteTime": {
     "end_time": "2023-09-22T01:08:07.348019Z",
     "start_time": "2023-09-22T01:08:07.124885Z"
    }
   },
   "id": "fbdb1d827c04e3dd"
  },
  {
   "cell_type": "code",
   "execution_count": 14,
   "outputs": [
    {
     "name": "stdout",
     "output_type": "stream",
     "text": [
      "Found 8000 files belonging to 4 classes.\n"
     ]
    }
   ],
   "source": [
    "raw_test_ds = tf.keras.utils.text_dataset_from_directory(\n",
    "    'stack_overflow/test',\n",
    "    batch_size=batch_size\n",
    ")"
   ],
   "metadata": {
    "collapsed": false,
    "ExecuteTime": {
     "end_time": "2023-09-22T01:08:07.574712Z",
     "start_time": "2023-09-22T01:08:07.350126Z"
    }
   },
   "id": "e3d35fc154cc1599"
  },
  {
   "cell_type": "code",
   "execution_count": 15,
   "outputs": [],
   "source": [
    "max_features = 10000\n",
    "sequence_length = 250\n",
    "\n",
    "vectorize_layer = layers.TextVectorization(\n",
    "    standardize='lower',\n",
    "    max_tokens=max_features,\n",
    "    output_mode='int',\n",
    "    output_sequence_length=sequence_length\n",
    ")"
   ],
   "metadata": {
    "collapsed": false,
    "ExecuteTime": {
     "end_time": "2023-09-22T01:08:07.599833Z",
     "start_time": "2023-09-22T01:08:07.575370Z"
    }
   },
   "id": "14e8d0efa52ba3bb"
  },
  {
   "cell_type": "code",
   "execution_count": 16,
   "outputs": [],
   "source": [
    "train_text = raw_train_ds.map(lambda x, y: x)\n",
    "vectorize_layer.adapt(train_text)"
   ],
   "metadata": {
    "collapsed": false,
    "ExecuteTime": {
     "end_time": "2023-09-22T01:08:08.222250Z",
     "start_time": "2023-09-22T01:08:07.587932Z"
    }
   },
   "id": "59615e5d533f3aca"
  },
  {
   "cell_type": "code",
   "execution_count": 17,
   "outputs": [],
   "source": [
    "def vectorize_text(text, label):\n",
    "    text = tf.expand_dims(text, -1)\n",
    "    return vectorize_layer(text), label "
   ],
   "metadata": {
    "collapsed": false,
    "ExecuteTime": {
     "end_time": "2023-09-22T01:08:08.232840Z",
     "start_time": "2023-09-22T01:08:08.222817Z"
    }
   },
   "id": "76a06e8f86407b03"
  },
  {
   "cell_type": "code",
   "execution_count": 18,
   "outputs": [
    {
     "name": "stdout",
     "output_type": "stream",
     "text": [
      "Question:  tf.Tensor(b'\"set blank to quit on exception? i\\'m using blank 3..i\\'ve been looking around for an answer to this, but i haven\\'t found it yet. basically, i\\'m running several blank scripts into a game engine, and each script has its own entry point...i\\'d rather not add try: except blocks through all of my code, so i was wondering if it\\'s at all possible to tell blank to quit (or perhaps assign a custom function to that \"\"callback\"\") on finding its first error, regardless of where or what it found? ..currently, the game engine will continue after finding and hitting an error, making it more difficult than necessary to diagnose issues since running into one error may make a subsequent script not work (as it relies on variables that the error-ing script set, for example). any ideas? ..i know that i could redirect the console to a file to allow for easier scrolling, but just capturing the first error and stopping the game prematurely would be really useful...okay, a couple of extra bits of info - sorry for neglecting to say this. the engine i\\'m using (the blender game engine) is coded in c, so changing the source is more than i\\'d like to do.....after googling, it would appear that a similar question with a solid answer has been asked here, which is how to get the last raised exception. if i check the sys module for the presence of the last_value variable and it exists, then i can quit prematurely, as the console would have already printed out the error...thanks for the help.\"\\n', shape=(), dtype=string)\n",
      "Label:  python\n",
      "Vectorized question:  (<tf.Tensor: shape=(1, 250), dtype=int64, numpy=\n",
      "array([[5243,   29,    4, 2630,   38, 5550,   60,   50,   29,    1,  198,\n",
      "         402,  515,   13,   30,  200,    4,  565,   26,    5, 1546,  249,\n",
      "          14, 4088, 2199,   60,  332,  713,   29, 1606,  100,    6,  335,\n",
      "           1,   10,  115,  235,   97,  176,  686,  938,    1,  767,   23,\n",
      "         129,    1,  609, 3070,  181,   73,   11,   24,  412,   59,    5,\n",
      "         112,  568,   12,  178,   62,   73,  225,    4,  401,   29,    4,\n",
      "        2630, 1315, 2042,  601,    6,  719,   53,    4,   15,    1,   38,\n",
      "        1186,  176,  105, 1090, 3014,   11,  121,   46,   63,   14,    1,\n",
      "           1,    2,  335, 2787,   69, 1073,  155, 1186,   10, 9331,   30,\n",
      "        1090,  467,   14,  177, 2911,  188, 1983,    4,    1, 1307,  441,\n",
      "         332,  100,   74,   95,  444,  110,    6, 4862,  235,   23,  179,\n",
      "        2015,   14,    1,   38,  298,   15,    2,    1,  235, 3872,   13,\n",
      "        6971,   77, 3509,  376,  101,   15,    5,  163, 2528,    2,  397,\n",
      "           4,    6,   49,    4,  771,   13, 1518,    1,   26,  102,    1,\n",
      "           2,  105,   95,   10, 3643,    2,  335,    1,   64,   32,  328,\n",
      "           1,    6, 1867,   11, 1247, 3757,   11,  858,   58,  989,   13,\n",
      "           1,    4,  351,  650,    2, 2787,   60,   50, 1137,    1,  335,\n",
      "           1,    8, 3206,    7, 2073,   59,  899,    2,  517,    8,  177,\n",
      "         188,  585,   51,    4,    1,    1,   14,   64,  942,   15,    6,\n",
      "         493,  185,   21,    6, 1794,  200,   97,  198,  954, 1116,   66,\n",
      "           8,   41,    4,   48,    2,  255, 5408, 2187,   12,    5,  190,\n",
      "           2, 2355,  454,   13,    2,    1,   11,    2,    1,  126,   10,\n",
      "          14, 4257,   87,    5,   35, 2630,    1,   36]])>, <tf.Tensor: shape=(), dtype=int32, numpy=3>)\n"
     ]
    }
   ],
   "source": [
    "text_batch, label_batch = next(iter(raw_train_ds))\n",
    "first_question, first_label = text_batch[0], label_batch[0]\n",
    "print(\"Question: \", first_question)\n",
    "print(\"Label: \", raw_train_ds.class_names[first_label])\n",
    "print(\"Vectorized question: \", vectorize_text(first_question, first_label))"
   ],
   "metadata": {
    "collapsed": false,
    "ExecuteTime": {
     "end_time": "2023-09-22T01:08:08.387484Z",
     "start_time": "2023-09-22T01:08:08.226354Z"
    }
   },
   "id": "8f9478d16e4a0494"
  },
  {
   "cell_type": "code",
   "execution_count": 19,
   "outputs": [
    {
     "name": "stdout",
     "output_type": "stream",
     "text": [
      "55 =>  static\n",
      "550 =>  const\n"
     ]
    }
   ],
   "source": [
    "print(\"55 => \", vectorize_layer.get_vocabulary()[55])\n",
    "print(\"550 => \", vectorize_layer.get_vocabulary()[550])"
   ],
   "metadata": {
    "collapsed": false,
    "ExecuteTime": {
     "end_time": "2023-09-22T01:08:08.426251Z",
     "start_time": "2023-09-22T01:08:08.388298Z"
    }
   },
   "id": "ea5a6c39d4bf5b0e"
  },
  {
   "cell_type": "code",
   "execution_count": 20,
   "outputs": [],
   "source": [
    "train_ds = raw_train_ds.map(vectorize_text)\n",
    "val_ds = raw_val_ds.map(vectorize_text)\n",
    "test_ds = raw_test_ds.map(vectorize_text)"
   ],
   "metadata": {
    "collapsed": false,
    "ExecuteTime": {
     "end_time": "2023-09-22T01:08:08.464891Z",
     "start_time": "2023-09-22T01:08:08.408520Z"
    }
   },
   "id": "6e9d089ccd4fc9c6"
  },
  {
   "cell_type": "markdown",
   "source": [
    "### Configuring the dataset for performance"
   ],
   "metadata": {
    "collapsed": false
   },
   "id": "5ff5b958e40a4f1b"
  },
  {
   "cell_type": "code",
   "execution_count": 21,
   "outputs": [],
   "source": [
    "AUTOTUNE = tf.data.AUTOTUNE\n",
    "\n",
    "train_ds = train_ds.cache().prefetch(buffer_size=AUTOTUNE)\n",
    "val_ds = val_ds.cache().prefetch(buffer_size=AUTOTUNE)\n",
    "test_ds = test_ds.cache().prefetch(buffer_size=AUTOTUNE)"
   ],
   "metadata": {
    "collapsed": false,
    "ExecuteTime": {
     "end_time": "2023-09-22T01:08:08.473817Z",
     "start_time": "2023-09-22T01:08:08.465464Z"
    }
   },
   "id": "b8e3aeb432f09ee6"
  },
  {
   "cell_type": "markdown",
   "source": [
    "### Creating the model"
   ],
   "metadata": {
    "collapsed": false
   },
   "id": "a084c2da100ec2d2"
  },
  {
   "cell_type": "code",
   "execution_count": 30,
   "outputs": [
    {
     "name": "stdout",
     "output_type": "stream",
     "text": [
      "Model: \"sequential_1\"\n",
      "_________________________________________________________________\n",
      " Layer (type)                Output Shape              Param #   \n",
      "=================================================================\n",
      " embedding_1 (Embedding)     (None, None, 16)          160016    \n",
      "                                                                 \n",
      " dropout_2 (Dropout)         (None, None, 16)          0         \n",
      "                                                                 \n",
      " global_average_pooling1d_1  (None, 16)                0         \n",
      "  (GlobalAveragePooling1D)                                       \n",
      "                                                                 \n",
      " dropout_3 (Dropout)         (None, 16)                0         \n",
      "                                                                 \n",
      " dense_1 (Dense)             (None, 4)                 68        \n",
      "                                                                 \n",
      "=================================================================\n",
      "Total params: 160084 (625.33 KB)\n",
      "Trainable params: 160084 (625.33 KB)\n",
      "Non-trainable params: 0 (0.00 Byte)\n",
      "_________________________________________________________________\n"
     ]
    }
   ],
   "source": [
    "embedding_dim = 16\n",
    "\n",
    "model = tf.keras.Sequential([\n",
    "    layers.Embedding(max_features + 1, embedding_dim),\n",
    "    layers.Dropout(0.4),\n",
    "    layers.GlobalAveragePooling1D(),\n",
    "    layers.Dropout(0.4),\n",
    "    layers.Dense(4)\n",
    "])\n",
    "\n",
    "model.summary()"
   ],
   "metadata": {
    "collapsed": false,
    "ExecuteTime": {
     "end_time": "2023-09-22T01:17:31.612105Z",
     "start_time": "2023-09-22T01:17:31.576530Z"
    }
   },
   "id": "16165ccf66c9ecba"
  },
  {
   "cell_type": "markdown",
   "source": [
    "### Loss function and optimizer"
   ],
   "metadata": {
    "collapsed": false
   },
   "id": "26a5b774f0bb37a8"
  },
  {
   "cell_type": "code",
   "execution_count": 31,
   "outputs": [],
   "source": [
    "model.compile(loss=losses.SparseCategoricalCrossentropy(from_logits=True),\n",
    "              optimizer='adam',\n",
    "              metrics=['accuracy'])"
   ],
   "metadata": {
    "collapsed": false,
    "ExecuteTime": {
     "end_time": "2023-09-22T01:17:34.193175Z",
     "start_time": "2023-09-22T01:17:34.183560Z"
    }
   },
   "id": "4a631c7f31b6c42c"
  },
  {
   "cell_type": "markdown",
   "source": [
    "### Training the model"
   ],
   "metadata": {
    "collapsed": false
   },
   "id": "a38a71ff767aa781"
  },
  {
   "cell_type": "code",
   "execution_count": 32,
   "outputs": [
    {
     "name": "stdout",
     "output_type": "stream",
     "text": [
      "Epoch 1/40\n",
      "200/200 [==============================] - 6s 26ms/step - loss: 1.3788 - accuracy: 0.3336 - val_loss: 1.3693 - val_accuracy: 0.4837\n",
      "Epoch 2/40\n",
      "200/200 [==============================] - 4s 21ms/step - loss: 1.3525 - accuracy: 0.4508 - val_loss: 1.3385 - val_accuracy: 0.5425\n",
      "Epoch 3/40\n",
      "200/200 [==============================] - 3s 17ms/step - loss: 1.3062 - accuracy: 0.5281 - val_loss: 1.2891 - val_accuracy: 0.5800\n",
      "Epoch 4/40\n",
      "200/200 [==============================] - 3s 16ms/step - loss: 1.2397 - accuracy: 0.5900 - val_loss: 1.2252 - val_accuracy: 0.6281\n",
      "Epoch 5/40\n",
      "200/200 [==============================] - 3s 15ms/step - loss: 1.1609 - accuracy: 0.6422 - val_loss: 1.1555 - val_accuracy: 0.6650\n",
      "Epoch 6/40\n",
      "200/200 [==============================] - 3s 15ms/step - loss: 1.0796 - accuracy: 0.6905 - val_loss: 1.0875 - val_accuracy: 0.6969\n",
      "Epoch 7/40\n",
      "200/200 [==============================] - 3s 15ms/step - loss: 1.0020 - accuracy: 0.7320 - val_loss: 1.0250 - val_accuracy: 0.7231\n",
      "Epoch 8/40\n",
      "200/200 [==============================] - 3s 15ms/step - loss: 0.9308 - accuracy: 0.7598 - val_loss: 0.9691 - val_accuracy: 0.7387\n",
      "Epoch 9/40\n",
      "200/200 [==============================] - 3s 15ms/step - loss: 0.8665 - accuracy: 0.7861 - val_loss: 0.9197 - val_accuracy: 0.7475\n",
      "Epoch 10/40\n",
      "200/200 [==============================] - 3s 15ms/step - loss: 0.8086 - accuracy: 0.8059 - val_loss: 0.8762 - val_accuracy: 0.7606\n",
      "Epoch 11/40\n",
      "200/200 [==============================] - 3s 15ms/step - loss: 0.7565 - accuracy: 0.8245 - val_loss: 0.8378 - val_accuracy: 0.7750\n",
      "Epoch 12/40\n",
      "200/200 [==============================] - 3s 14ms/step - loss: 0.7095 - accuracy: 0.8386 - val_loss: 0.8038 - val_accuracy: 0.7800\n",
      "Epoch 13/40\n",
      "200/200 [==============================] - 3s 15ms/step - loss: 0.6667 - accuracy: 0.8495 - val_loss: 0.7735 - val_accuracy: 0.7837\n",
      "Epoch 14/40\n",
      "200/200 [==============================] - 3s 14ms/step - loss: 0.6277 - accuracy: 0.8614 - val_loss: 0.7466 - val_accuracy: 0.7887\n",
      "Epoch 15/40\n",
      "200/200 [==============================] - 3s 15ms/step - loss: 0.5919 - accuracy: 0.8709 - val_loss: 0.7223 - val_accuracy: 0.7944\n",
      "Epoch 16/40\n",
      "200/200 [==============================] - 3s 15ms/step - loss: 0.5588 - accuracy: 0.8814 - val_loss: 0.7005 - val_accuracy: 0.8012\n",
      "Epoch 17/40\n",
      "200/200 [==============================] - 3s 15ms/step - loss: 0.5282 - accuracy: 0.8906 - val_loss: 0.6807 - val_accuracy: 0.8006\n",
      "Epoch 18/40\n",
      "200/200 [==============================] - 3s 15ms/step - loss: 0.4997 - accuracy: 0.8983 - val_loss: 0.6627 - val_accuracy: 0.8031\n",
      "Epoch 19/40\n",
      "200/200 [==============================] - 3s 15ms/step - loss: 0.4731 - accuracy: 0.9052 - val_loss: 0.6463 - val_accuracy: 0.8062\n",
      "Epoch 20/40\n",
      "200/200 [==============================] - 3s 15ms/step - loss: 0.4481 - accuracy: 0.9133 - val_loss: 0.6313 - val_accuracy: 0.8106\n",
      "Epoch 21/40\n",
      "200/200 [==============================] - 3s 15ms/step - loss: 0.4247 - accuracy: 0.9186 - val_loss: 0.6175 - val_accuracy: 0.8156\n",
      "Epoch 22/40\n",
      "200/200 [==============================] - 3s 15ms/step - loss: 0.4026 - accuracy: 0.9252 - val_loss: 0.6049 - val_accuracy: 0.8163\n",
      "Epoch 23/40\n",
      "200/200 [==============================] - 3s 14ms/step - loss: 0.3818 - accuracy: 0.9322 - val_loss: 0.5933 - val_accuracy: 0.8169\n",
      "Epoch 24/40\n",
      "200/200 [==============================] - 3s 15ms/step - loss: 0.3621 - accuracy: 0.9373 - val_loss: 0.5826 - val_accuracy: 0.8181\n",
      "Epoch 25/40\n",
      "200/200 [==============================] - 3s 15ms/step - loss: 0.3435 - accuracy: 0.9428 - val_loss: 0.5727 - val_accuracy: 0.8188\n",
      "Epoch 26/40\n",
      "200/200 [==============================] - 3s 15ms/step - loss: 0.3258 - accuracy: 0.9480 - val_loss: 0.5637 - val_accuracy: 0.8213\n",
      "Epoch 27/40\n",
      "200/200 [==============================] - 3s 14ms/step - loss: 0.3091 - accuracy: 0.9525 - val_loss: 0.5553 - val_accuracy: 0.8194\n",
      "Epoch 28/40\n",
      "200/200 [==============================] - 3s 14ms/step - loss: 0.2932 - accuracy: 0.9561 - val_loss: 0.5476 - val_accuracy: 0.8175\n",
      "Epoch 29/40\n",
      "200/200 [==============================] - 3s 15ms/step - loss: 0.2781 - accuracy: 0.9605 - val_loss: 0.5405 - val_accuracy: 0.8213\n",
      "Epoch 30/40\n",
      "200/200 [==============================] - 3s 15ms/step - loss: 0.2637 - accuracy: 0.9631 - val_loss: 0.5339 - val_accuracy: 0.8231\n",
      "Epoch 31/40\n",
      "200/200 [==============================] - 3s 15ms/step - loss: 0.2501 - accuracy: 0.9669 - val_loss: 0.5279 - val_accuracy: 0.8238\n",
      "Epoch 32/40\n",
      "200/200 [==============================] - 3s 14ms/step - loss: 0.2371 - accuracy: 0.9691 - val_loss: 0.5223 - val_accuracy: 0.8231\n",
      "Epoch 33/40\n",
      "200/200 [==============================] - 3s 14ms/step - loss: 0.2247 - accuracy: 0.9714 - val_loss: 0.5173 - val_accuracy: 0.8244\n",
      "Epoch 34/40\n",
      "200/200 [==============================] - 3s 15ms/step - loss: 0.2130 - accuracy: 0.9748 - val_loss: 0.5126 - val_accuracy: 0.8238\n",
      "Epoch 35/40\n",
      "200/200 [==============================] - 3s 15ms/step - loss: 0.2018 - accuracy: 0.9769 - val_loss: 0.5083 - val_accuracy: 0.8238\n",
      "Epoch 36/40\n",
      "200/200 [==============================] - 3s 15ms/step - loss: 0.1911 - accuracy: 0.9792 - val_loss: 0.5044 - val_accuracy: 0.8250\n",
      "Epoch 37/40\n",
      "200/200 [==============================] - 3s 15ms/step - loss: 0.1810 - accuracy: 0.9811 - val_loss: 0.5008 - val_accuracy: 0.8263\n",
      "Epoch 38/40\n",
      "200/200 [==============================] - 3s 15ms/step - loss: 0.1714 - accuracy: 0.9825 - val_loss: 0.4976 - val_accuracy: 0.8256\n",
      "Epoch 39/40\n",
      "200/200 [==============================] - 3s 15ms/step - loss: 0.1622 - accuracy: 0.9841 - val_loss: 0.4947 - val_accuracy: 0.8256\n",
      "Epoch 40/40\n",
      "200/200 [==============================] - 3s 15ms/step - loss: 0.1535 - accuracy: 0.9855 - val_loss: 0.4921 - val_accuracy: 0.8263\n"
     ]
    }
   ],
   "source": [
    "epochs = 40\n",
    "\n",
    "history = model.fit(\n",
    "    train_ds, validation_data=val_ds,\n",
    "    epochs=epochs\n",
    ")"
   ],
   "metadata": {
    "collapsed": false,
    "ExecuteTime": {
     "end_time": "2023-09-22T01:19:37.614511Z",
     "start_time": "2023-09-22T01:17:35.541207Z"
    }
   },
   "id": "e3df2010520df33c"
  },
  {
   "cell_type": "markdown",
   "source": [
    "### Evaluating the model"
   ],
   "metadata": {
    "collapsed": false
   },
   "id": "5e71a32c0f2e2fdb"
  },
  {
   "cell_type": "code",
   "execution_count": 33,
   "outputs": [
    {
     "name": "stdout",
     "output_type": "stream",
     "text": [
      "250/250 [==============================] - 1s 5ms/step - loss: 0.5412 - accuracy: 0.7968\n",
      "Loss =  0.5412313938140869\n",
      "Accuracy =  0.796750009059906\n"
     ]
    }
   ],
   "source": [
    "loss, accuracy = model.evaluate(test_ds)\n",
    "\n",
    "print(\"Loss = \", loss)\n",
    "print(\"Accuracy = \", accuracy)"
   ],
   "metadata": {
    "collapsed": false,
    "ExecuteTime": {
     "end_time": "2023-09-22T02:20:22.640163Z",
     "start_time": "2023-09-22T02:20:21.490813Z"
    }
   },
   "id": "d9d05e99eb8af459"
  },
  {
   "cell_type": "code",
   "execution_count": 34,
   "outputs": [
    {
     "data": {
      "text/plain": "dict_keys(['loss', 'accuracy', 'val_loss', 'val_accuracy'])"
     },
     "execution_count": 34,
     "metadata": {},
     "output_type": "execute_result"
    }
   ],
   "source": [
    "history.history.keys()"
   ],
   "metadata": {
    "collapsed": false,
    "ExecuteTime": {
     "end_time": "2023-09-22T02:20:26.147778Z",
     "start_time": "2023-09-22T02:20:26.131580Z"
    }
   },
   "id": "d89b96078db1c39a"
  },
  {
   "cell_type": "code",
   "execution_count": 35,
   "outputs": [
    {
     "data": {
      "text/plain": "<Figure size 640x480 with 1 Axes>",
      "image/png": "[encoded data removed]"
     },
     "metadata": {},
     "output_type": "display_data"
    }
   ],
   "source": [
    "history_dict = history.history\n",
    "\n",
    "acc = history_dict['accuracy']\n",
    "val_acc = history_dict['val_accuracy']\n",
    "loss = history_dict['loss']\n",
    "val_loss = history_dict['val_loss']\n",
    "\n",
    "x_axis = range(1, len(acc) + 1) # Number of epochs for x_axis\n",
    "\n",
    "plt.plot(x_axis, loss, 'bo', label='Training loss')\n",
    "plt.plot(x_axis, val_loss, 'b', label='Validation loss')\n",
    "\n",
    "plt.title('Training and validation loss')\n",
    "plt.xlabel('Epochs')\n",
    "plt.ylabel('Loss')\n",
    "plt.legend()\n",
    "\n",
    "plt.show()"
   ],
   "metadata": {
    "collapsed": false,
    "ExecuteTime": {
     "end_time": "2023-09-22T02:20:33.467448Z",
     "start_time": "2023-09-22T02:20:33.393970Z"
    }
   },
   "id": "3132379db072c60f"
  },
  {
   "cell_type": "code",
   "execution_count": 36,
   "outputs": [
    {
     "data": {
      "text/plain": "<Figure size 640x480 with 1 Axes>",
      "image/png": "[encoded data removed]"
     },
     "metadata": {},
     "output_type": "display_data"
    }
   ],
   "source": [
    "plt.plot(x_axis, acc, 'bo', label='Training accuracy')\n",
    "plt.plot(x_axis, val_acc, 'b', label='Validation accuracy')\n",
    "\n",
    "plt.title('Training and validation accuracy')\n",
    "plt.xlabel('Epochs')\n",
    "plt.ylabel('Accuracy')\n",
    "plt.legend(loc='lower right')\n",
    "\n",
    "plt.show()"
   ],
   "metadata": {
    "collapsed": false,
    "ExecuteTime": {
     "end_time": "2023-09-22T02:20:48.449670Z",
     "start_time": "2023-09-22T02:20:48.385253Z"
    }
   },
   "id": "6c1bd3b775c11776"
  },
  {
   "cell_type": "code",
   "execution_count": 37,
   "outputs": [],
   "source": [
    "export_model = tf.keras.Sequential([\n",
    "    vectorize_layer,\n",
    "    model,\n",
    "    layers.Activation('sigmoid')\n",
    "])\n",
    "\n",
    "export_model.compile(\n",
    "    loss=losses.SparseCategoricalCrossentropy(from_logits=False),\n",
    "    optimizer='adam',\n",
    "    metrics=['accuracy']\n",
    ")\n"
   ],
   "metadata": {
    "collapsed": false,
    "ExecuteTime": {
     "end_time": "2023-09-22T02:23:31.353644Z",
     "start_time": "2023-09-22T02:23:31.316019Z"
    }
   },
   "id": "965739e6fe0ac5a0"
  },
  {
   "cell_type": "code",
   "execution_count": 38,
   "outputs": [
    {
     "name": "stdout",
     "output_type": "stream",
     "text": [
      "250/250 [==============================] - 1s 5ms/step - loss: 0.5412 - accuracy: 0.7968\n"
     ]
    },
    {
     "data": {
      "text/plain": "0.796750009059906"
     },
     "execution_count": 38,
     "metadata": {},
     "output_type": "execute_result"
    }
   ],
   "source": [
    "loss, accuracy = export_model.evaluate(raw_test_ds)\n",
    "accuracy"
   ],
   "metadata": {
    "collapsed": false,
    "ExecuteTime": {
     "end_time": "2023-09-22T02:23:58.529194Z",
     "start_time": "2023-09-22T02:23:57.187239Z"
    }
   },
   "id": "476d7f6f93b57897"
  },
  {
   "cell_type": "code",
   "execution_count": null,
   "outputs": [],
   "source": [],
   "metadata": {
    "collapsed": false
   },
   "id": "1fd30f229a9a42e5"
  }
 ],
 "metadata": {
  "kernelspec": {
   "display_name": "Python 3",
   "language": "python",
   "name": "python3"
  },
  "language_info": {
   "codemirror_mode": {
    "name": "ipython",
    "version": 2
   },
   "file_extension": ".py",
   "mimetype": "text/x-python",
   "name": "python",
   "nbconvert_exporter": "python",
   "pygments_lexer": "ipython2",
   "version": "2.7.6"
  }
 },
 "nbformat": 4,
 "nbformat_minor": 5
}
