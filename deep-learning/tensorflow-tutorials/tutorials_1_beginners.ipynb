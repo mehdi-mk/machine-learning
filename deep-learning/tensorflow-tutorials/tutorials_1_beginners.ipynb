{
 "cells": [
  {
   "cell_type": "code",
   "execution_count": 1,
   "id": "initial_id",
   "metadata": {
    "collapsed": true,
    "ExecuteTime": {
     "end_time": "2023-09-19T14:24:54.632722800Z",
     "start_time": "2023-09-19T14:24:42.043446700Z"
    }
   },
   "outputs": [
    {
     "name": "stdout",
     "output_type": "stream",
     "text": [
      "2.13.0\n"
     ]
    }
   ],
   "source": [
    "import tensorflow as tf\n",
    "print(tf.__version__)"
   ]
  },
  {
   "cell_type": "code",
   "execution_count": 2,
   "outputs": [
    {
     "name": "stdout",
     "output_type": "stream",
     "text": [
      "Downloading data from https://storage.googleapis.com/tensorflow/tf-keras-datasets/mnist.npz\n",
      "11490434/11490434 [==============================] - 1s 0us/step\n"
     ]
    }
   ],
   "source": [
    "mnist = tf.keras.datasets.mnist\n",
    "\n",
    "(x_train, y_train), (x_test, y_test) = mnist.load_data()\n",
    "x_train, x_test = x_train / 255.0, x_test / 255.0"
   ],
   "metadata": {
    "collapsed": false,
    "ExecuteTime": {
     "end_time": "2023-09-19T14:25:58.913983100Z",
     "start_time": "2023-09-19T14:25:57.337548800Z"
    }
   },
   "id": "1ae2080c48c669b5"
  },
  {
   "cell_type": "code",
   "execution_count": 4,
   "outputs": [],
   "source": [
    "model = tf.keras.Sequential([\n",
    "    tf.keras.layers.Flatten(input_shape=(28, 28)),\n",
    "    tf.keras.layers.Dense(128, activation='relu'),\n",
    "    tf.keras.layers.Dropout(0.2),\n",
    "    tf.keras.layers.Dense(10)\n",
    "])"
   ],
   "metadata": {
    "collapsed": false,
    "ExecuteTime": {
     "end_time": "2023-09-19T14:27:51.151911100Z",
     "start_time": "2023-09-19T14:27:51.048750500Z"
    }
   },
   "id": "8944e7c7380ac7c8"
  },
  {
   "cell_type": "code",
   "execution_count": 13,
   "outputs": [
    {
     "data": {
      "text/plain": "array([[-0.1529083 , -0.48509756,  0.6104205 , -0.12841657,  0.23093933,\n        -0.6087346 , -0.25397676, -0.3881294 ,  0.10649051, -0.00662404]],\n      dtype=float32)"
     },
     "execution_count": 13,
     "metadata": {},
     "output_type": "execute_result"
    }
   ],
   "source": [
    "predictions = model(x_train[:1]).numpy()\n",
    "predictions"
   ],
   "metadata": {
    "collapsed": false,
    "ExecuteTime": {
     "end_time": "2023-09-19T14:31:37.711809100Z",
     "start_time": "2023-09-19T14:31:37.660349Z"
    }
   },
   "id": "14b6af0a09323ddb"
  },
  {
   "cell_type": "code",
   "execution_count": 14,
   "outputs": [
    {
     "data": {
      "text/plain": "<tf.Tensor: shape=(1, 10), dtype=float32, numpy=\narray([[-0.1529083 , -0.48509756,  0.6104205 , -0.12841657,  0.23093933,\n        -0.6087346 , -0.25397676, -0.3881294 ,  0.10649051, -0.00662404]],\n      dtype=float32)>"
     },
     "execution_count": 14,
     "metadata": {},
     "output_type": "execute_result"
    }
   ],
   "source": [
    "model(x_train[:1])"
   ],
   "metadata": {
    "collapsed": false,
    "ExecuteTime": {
     "end_time": "2023-09-19T14:56:18.022308700Z",
     "start_time": "2023-09-19T14:56:17.923431100Z"
    }
   },
   "id": "e956fefd93536104"
  },
  {
   "cell_type": "code",
   "execution_count": 15,
   "outputs": [],
   "source": [
    "loss_fn = tf.keras.losses.SparseCategoricalCrossentropy(from_logits=True)"
   ],
   "metadata": {
    "collapsed": false,
    "ExecuteTime": {
     "end_time": "2023-09-19T15:04:26.953425200Z",
     "start_time": "2023-09-19T15:04:26.933251Z"
    }
   },
   "id": "2e11c3815fbb6ee3"
  },
  {
   "cell_type": "code",
   "execution_count": 17,
   "outputs": [
    {
     "data": {
      "text/plain": "2.8661299"
     },
     "execution_count": 17,
     "metadata": {},
     "output_type": "execute_result"
    }
   ],
   "source": [
    "loss_fn(y_train[:1], predictions).numpy()"
   ],
   "metadata": {
    "collapsed": false,
    "ExecuteTime": {
     "end_time": "2023-09-19T15:06:33.693391600Z",
     "start_time": "2023-09-19T15:06:33.683467Z"
    }
   },
   "id": "e138ef597348e23b"
  },
  {
   "cell_type": "code",
   "execution_count": 21,
   "outputs": [
    {
     "data": {
      "text/plain": "<tf.Tensor: shape=(), dtype=float32, numpy=2.3025851>"
     },
     "execution_count": 21,
     "metadata": {},
     "output_type": "execute_result"
    }
   ],
   "source": [
    "-tf.math.log(1/10)"
   ],
   "metadata": {
    "collapsed": false,
    "ExecuteTime": {
     "end_time": "2023-09-19T15:09:57.593307400Z",
     "start_time": "2023-09-19T15:09:57.563161500Z"
    }
   },
   "id": "2b20dc0ea2b8ea5"
  },
  {
   "cell_type": "markdown",
   "source": [
    "#### Before you start training, configure and compile the model using Keras Model.compile. Set the optimizer class to adam, set the loss to the loss_fn function you defined earlier, and specify a metric to be evaluated for the model by setting the metrics parameter to accuracy."
   ],
   "metadata": {
    "collapsed": false
   },
   "id": "cd7f49d1b249affe"
  },
  {
   "cell_type": "code",
   "execution_count": 24,
   "outputs": [],
   "source": [
    "model.compile(optimizer='adam', loss=loss_fn, metrics=['accuracy'])"
   ],
   "metadata": {
    "collapsed": false,
    "ExecuteTime": {
     "end_time": "2023-09-19T15:29:21.302488900Z",
     "start_time": "2023-09-19T15:29:21.282530300Z"
    }
   },
   "id": "9a8f7cdf9cf619bf"
  },
  {
   "cell_type": "markdown",
   "source": [
    "#### Use the Model.fit method to adjust your model parameters and minimize the loss"
   ],
   "metadata": {
    "collapsed": false
   },
   "id": "e36ca8e61d35c076"
  },
  {
   "cell_type": "code",
   "execution_count": 25,
   "outputs": [
    {
     "name": "stdout",
     "output_type": "stream",
     "text": [
      "Epoch 1/5\n",
      "1875/1875 [==============================] - 3s 1ms/step - loss: 0.2959 - accuracy: 0.9144\n",
      "Epoch 2/5\n",
      "1875/1875 [==============================] - 2s 1ms/step - loss: 0.1456 - accuracy: 0.9575\n",
      "Epoch 3/5\n",
      "1875/1875 [==============================] - 2s 1ms/step - loss: 0.1075 - accuracy: 0.9668\n",
      "Epoch 4/5\n",
      "1875/1875 [==============================] - 2s 1ms/step - loss: 0.0885 - accuracy: 0.9732\n",
      "Epoch 5/5\n",
      "1875/1875 [==============================] - 2s 1ms/step - loss: 0.0762 - accuracy: 0.9761\n"
     ]
    },
    {
     "data": {
      "text/plain": "<keras.src.callbacks.History at 0x1535b989750>"
     },
     "execution_count": 25,
     "metadata": {},
     "output_type": "execute_result"
    }
   ],
   "source": [
    "model.fit(x_train, y_train, epochs=5)"
   ],
   "metadata": {
    "collapsed": false,
    "ExecuteTime": {
     "end_time": "2023-09-19T15:40:14.012337Z",
     "start_time": "2023-09-19T15:40:00.832250200Z"
    }
   },
   "id": "307bfa63d03f2eeb"
  },
  {
   "cell_type": "markdown",
   "source": [
    "#### The Model.evaluate method checks the model's performance, usually on a validation set or test set. "
   ],
   "metadata": {
    "collapsed": false
   },
   "id": "ea82698e3903e30e"
  },
  {
   "cell_type": "code",
   "execution_count": 26,
   "outputs": [
    {
     "name": "stdout",
     "output_type": "stream",
     "text": [
      "313/313 - 0s - loss: 0.0719 - accuracy: 0.9779 - 360ms/epoch - 1ms/step\n"
     ]
    },
    {
     "data": {
      "text/plain": "[0.07186076790094376, 0.9779000282287598]"
     },
     "execution_count": 26,
     "metadata": {},
     "output_type": "execute_result"
    }
   ],
   "source": [
    "model.evaluate(x_test, y_test, verbose=2)"
   ],
   "metadata": {
    "collapsed": false,
    "ExecuteTime": {
     "end_time": "2023-09-19T15:41:28.092276600Z",
     "start_time": "2023-09-19T15:41:27.602219300Z"
    }
   },
   "id": "c8b1d9394c0916fc"
  },
  {
   "cell_type": "markdown",
   "source": [
    "To return a probability, wrap the trained model, and attach the softmax to it."
   ],
   "metadata": {
    "collapsed": false
   },
   "id": "ed70df404cfcef75"
  },
  {
   "cell_type": "code",
   "execution_count": 28,
   "outputs": [
    {
     "data": {
      "text/plain": "<tf.Tensor: shape=(5, 10), dtype=float32, numpy=\narray([[5.73989283e-08, 2.54374011e-09, 2.01915391e-05, 2.36586566e-05,\n        6.55179307e-14, 3.34261365e-08, 5.46906982e-15, 9.99943256e-01,\n        8.65152927e-08, 1.27664534e-05],\n       [3.62107344e-10, 5.31133410e-05, 9.99944687e-01, 1.41348551e-06,\n        3.88991527e-18, 1.98039331e-07, 3.83162356e-11, 6.88695683e-13,\n        5.89303795e-07, 1.39727605e-14],\n       [3.17207338e-07, 9.97720063e-01, 5.40067209e-04, 3.73137436e-06,\n        2.08031452e-05, 6.86579097e-06, 6.98716321e-05, 7.33573281e-04,\n        9.03016422e-04, 1.64868266e-06],\n       [9.99762475e-01, 8.85580997e-10, 1.62571145e-04, 1.87507645e-08,\n        1.43387138e-06, 2.98850728e-06, 4.06306171e-05, 1.56393162e-05,\n        7.47229763e-08, 1.41713317e-05],\n       [7.08325433e-06, 2.66634412e-08, 1.09580695e-04, 7.51443565e-08,\n        9.93147075e-01, 9.36785739e-07, 3.27253929e-06, 1.38653180e-04,\n        1.07321766e-05, 6.58256235e-03]], dtype=float32)>"
     },
     "execution_count": 28,
     "metadata": {},
     "output_type": "execute_result"
    }
   ],
   "source": [
    "probability_model = tf.keras.Sequential([\n",
    "    model,\n",
    "    tf.keras.layers.Softmax()\n",
    "])\n",
    "probability_model(x_test[:5])"
   ],
   "metadata": {
    "collapsed": false,
    "ExecuteTime": {
     "end_time": "2023-09-19T15:43:44.854156500Z",
     "start_time": "2023-09-19T15:43:44.806450900Z"
    }
   },
   "id": "14f4fdfed762b787"
  },
  {
   "cell_type": "code",
   "execution_count": null,
   "outputs": [],
   "source": [],
   "metadata": {
    "collapsed": false
   },
   "id": "8d5e53f1931310da"
  }
 ],
 "metadata": {
  "kernelspec": {
   "display_name": "Python 3",
   "language": "python",
   "name": "python3"
  },
  "language_info": {
   "codemirror_mode": {
    "name": "ipython",
    "version": 2
   },
   "file_extension": ".py",
   "mimetype": "text/x-python",
   "name": "python",
   "nbconvert_exporter": "python",
   "pygments_lexer": "ipython2",
   "version": "2.7.6"
  }
 },
 "nbformat": 4,
 "nbformat_minor": 5
}
