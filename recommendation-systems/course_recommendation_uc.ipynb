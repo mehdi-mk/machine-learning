{
 "cells": [
  {
   "cell_type": "code",
   "execution_count": 1,
   "metadata": {},
   "outputs": [],
   "source": [
    "import pandas as pd\n",
    "import pymssql"
   ]
  },
  {
   "cell_type": "code",
   "execution_count": 2,
   "metadata": {},
   "outputs": [],
   "source": [
    "password = input(\"Enter password: \")\n",
    "\n",
    "conn = pymssql.connect(host='ITAPPREGANAT01.uc.ucalgary.ca', user='uc.ucalgary.ca\\\\mehdi.karamollahi', password=password, database='USR_mehdi_karamollahi')\n",
    "\n",
    "cursor = conn.cursor()"
   ]
  },
  {
   "cell_type": "code",
   "execution_count": 7,
   "metadata": {},
   "outputs": [
    {
     "name": "stdout",
     "output_type": "stream",
     "text": [
      "select fscc.Emplid , scc.Courses , fscc.Course_Grade_Official as Grades \n",
      "from USR_mehdi_karamollahi.dbo.F_Student_Courses_And_Credits as fscc\n",
      "join USR_mehdi_karamollahi.dbo.f_Course as Course\n",
      "on fscc.Crse_Strm_Dkey = Course.Crse_Strm_Dkey \n",
      "join USR_mehdi_karamollahi.dbo.t_science_courses scc \n",
      "on Course.Subject = left(scc.Courses, 4)\n",
      "and Course.Catalog_Nbr = stuff(scc.Courses, 1, 4, '')\n",
      "where left(fscc.Strm_Class_Dkey, 4) >= '2137'\n",
      "and fscc.Repeat_Code != 'LOW' \n",
      "and fscc.Course_Status in ('Completed', 'Transfer Credit', 'Other')\n",
      "order by fscc.Emplid , Courses;\n"
     ]
    }
   ],
   "source": [
    "with open('emplid_courses_grades.sql', 'r') as file:\n",
    "    emplid_courses_grades_query = file.read()\n",
    "print(emplid_courses_grades_query)"
   ]
  },
  {
   "cell_type": "code",
   "execution_count": 8,
   "metadata": {},
   "outputs": [],
   "source": [
    "\n",
    "cursor.execute(emplid_courses_grades_query)"
   ]
  },
  {
   "cell_type": "code",
   "execution_count": null,
   "metadata": {},
   "outputs": [],
   "source": [
    "alldata = cursor.fetchall() #Grab all the data\n",
    "alldata\n",
    "# row = cursor.fetchone() #Just see the first row\n",
    "# row"
   ]
  },
  {
   "cell_type": "code",
   "execution_count": null,
   "metadata": {},
   "outputs": [],
   "source": [
    "def custom_agg(values):\n",
    "    return values\n",
    "\n",
    "pivot_df = emplid_course_df.pivot_table(index=['Emplid'], columns=['Courses'], values='Grades')\n",
    "pivot_df"
   ]
  },
  {
   "cell_type": "code",
   "execution_count": null,
   "metadata": {},
   "outputs": [],
   "source": []
  }
 ],
 "metadata": {
  "kernelspec": {
   "display_name": "base",
   "language": "python",
   "name": "python3"
  },
  "language_info": {
   "codemirror_mode": {
    "name": "ipython",
    "version": 3
   },
   "file_extension": ".py",
   "mimetype": "text/x-python",
   "name": "python",
   "nbconvert_exporter": "python",
   "pygments_lexer": "ipython3",
   "version": "3.11.5"
  }
 },
 "nbformat": 4,
 "nbformat_minor": 2
}
